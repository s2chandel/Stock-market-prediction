{
 "cells": [
  {
   "cell_type": "code",
   "execution_count": 1,
   "metadata": {
    "collapsed": true
   },
   "outputs": [],
   "source": [
    "#libs imported\n",
    "import pandas as pd\n",
    "import numpy as np\n",
    "import matplotlib.pyplot as plt\n",
    "from matplotlib import style\n",
    "import mpld3\n",
    "mpld3.enable_notebook()\n",
    "%matplotlib inline\n",
    "import sklearn as skl\n",
    "import math\n",
    "import datetime\n",
    "import time\n",
    "from pandas.tools.plotting import scatter_matrix\n",
    "from sklearn.model_selection import train_test_split \n",
    "from sklearn.linear_model import LinearRegression"
   ]
  },
  {
   "cell_type": "code",
   "execution_count": 2,
   "metadata": {
    "collapsed": true
   },
   "outputs": [],
   "source": [
    "#read data in the pandas by parsig the date as index column\n",
    "\n",
    "df = pd.read_csv('gogl.us.txt',\n",
    "                  header=0, \n",
    "                  index_col='Date',\n",
    "                  parse_dates=True)\n"
   ]
  },
  {
   "cell_type": "code",
   "execution_count": 3,
   "metadata": {},
   "outputs": [
    {
     "data": {
      "text/html": [
       "<div>\n",
       "<style>\n",
       "    .dataframe thead tr:only-child th {\n",
       "        text-align: right;\n",
       "    }\n",
       "\n",
       "    .dataframe thead th {\n",
       "        text-align: left;\n",
       "    }\n",
       "\n",
       "    .dataframe tbody tr th {\n",
       "        vertical-align: top;\n",
       "    }\n",
       "</style>\n",
       "<table border=\"1\" class=\"dataframe\">\n",
       "  <thead>\n",
       "    <tr style=\"text-align: right;\">\n",
       "      <th></th>\n",
       "      <th>Open</th>\n",
       "      <th>High</th>\n",
       "      <th>Low</th>\n",
       "      <th>Close</th>\n",
       "      <th>Volume</th>\n",
       "      <th>OpenInt</th>\n",
       "    </tr>\n",
       "    <tr>\n",
       "      <th>Date</th>\n",
       "      <th></th>\n",
       "      <th></th>\n",
       "      <th></th>\n",
       "      <th></th>\n",
       "      <th></th>\n",
       "      <th></th>\n",
       "    </tr>\n",
       "  </thead>\n",
       "  <tbody>\n",
       "    <tr>\n",
       "      <th>2005-02-25</th>\n",
       "      <td>141.94</td>\n",
       "      <td>143.84</td>\n",
       "      <td>141.20</td>\n",
       "      <td>143.18</td>\n",
       "      <td>89902</td>\n",
       "      <td>0</td>\n",
       "    </tr>\n",
       "    <tr>\n",
       "      <th>2005-02-28</th>\n",
       "      <td>143.70</td>\n",
       "      <td>147.19</td>\n",
       "      <td>139.47</td>\n",
       "      <td>143.14</td>\n",
       "      <td>124965</td>\n",
       "      <td>0</td>\n",
       "    </tr>\n",
       "    <tr>\n",
       "      <th>2005-03-01</th>\n",
       "      <td>141.79</td>\n",
       "      <td>142.57</td>\n",
       "      <td>131.36</td>\n",
       "      <td>134.50</td>\n",
       "      <td>229663</td>\n",
       "      <td>0</td>\n",
       "    </tr>\n",
       "    <tr>\n",
       "      <th>2005-03-02</th>\n",
       "      <td>135.27</td>\n",
       "      <td>139.11</td>\n",
       "      <td>135.06</td>\n",
       "      <td>137.56</td>\n",
       "      <td>88113</td>\n",
       "      <td>0</td>\n",
       "    </tr>\n",
       "    <tr>\n",
       "      <th>2005-03-03</th>\n",
       "      <td>138.59</td>\n",
       "      <td>138.59</td>\n",
       "      <td>132.24</td>\n",
       "      <td>134.89</td>\n",
       "      <td>120294</td>\n",
       "      <td>0</td>\n",
       "    </tr>\n",
       "  </tbody>\n",
       "</table>\n",
       "</div>"
      ],
      "text/plain": [
       "              Open    High     Low   Close  Volume  OpenInt\n",
       "Date                                                       \n",
       "2005-02-25  141.94  143.84  141.20  143.18   89902        0\n",
       "2005-02-28  143.70  147.19  139.47  143.14  124965        0\n",
       "2005-03-01  141.79  142.57  131.36  134.50  229663        0\n",
       "2005-03-02  135.27  139.11  135.06  137.56   88113        0\n",
       "2005-03-03  138.59  138.59  132.24  134.89  120294        0"
      ]
     },
     "execution_count": 3,
     "metadata": {},
     "output_type": "execute_result"
    }
   ],
   "source": [
    "df.head()"
   ]
  },
  {
   "cell_type": "code",
   "execution_count": 4,
   "metadata": {
    "collapsed": true
   },
   "outputs": [],
   "source": [
    "del df['OpenInt']"
   ]
  },
  {
   "cell_type": "code",
   "execution_count": 5,
   "metadata": {},
   "outputs": [
    {
     "data": {
      "text/html": [
       "<div>\n",
       "<style>\n",
       "    .dataframe thead tr:only-child th {\n",
       "        text-align: right;\n",
       "    }\n",
       "\n",
       "    .dataframe thead th {\n",
       "        text-align: left;\n",
       "    }\n",
       "\n",
       "    .dataframe tbody tr th {\n",
       "        vertical-align: top;\n",
       "    }\n",
       "</style>\n",
       "<table border=\"1\" class=\"dataframe\">\n",
       "  <thead>\n",
       "    <tr style=\"text-align: right;\">\n",
       "      <th></th>\n",
       "      <th>Open</th>\n",
       "      <th>High</th>\n",
       "      <th>Low</th>\n",
       "      <th>Close</th>\n",
       "      <th>Volume</th>\n",
       "    </tr>\n",
       "    <tr>\n",
       "      <th>Date</th>\n",
       "      <th></th>\n",
       "      <th></th>\n",
       "      <th></th>\n",
       "      <th></th>\n",
       "      <th></th>\n",
       "    </tr>\n",
       "  </thead>\n",
       "  <tbody>\n",
       "    <tr>\n",
       "      <th>2005-02-25</th>\n",
       "      <td>141.94</td>\n",
       "      <td>143.84</td>\n",
       "      <td>141.20</td>\n",
       "      <td>143.18</td>\n",
       "      <td>89902</td>\n",
       "    </tr>\n",
       "    <tr>\n",
       "      <th>2005-02-28</th>\n",
       "      <td>143.70</td>\n",
       "      <td>147.19</td>\n",
       "      <td>139.47</td>\n",
       "      <td>143.14</td>\n",
       "      <td>124965</td>\n",
       "    </tr>\n",
       "    <tr>\n",
       "      <th>2005-03-01</th>\n",
       "      <td>141.79</td>\n",
       "      <td>142.57</td>\n",
       "      <td>131.36</td>\n",
       "      <td>134.50</td>\n",
       "      <td>229663</td>\n",
       "    </tr>\n",
       "    <tr>\n",
       "      <th>2005-03-02</th>\n",
       "      <td>135.27</td>\n",
       "      <td>139.11</td>\n",
       "      <td>135.06</td>\n",
       "      <td>137.56</td>\n",
       "      <td>88113</td>\n",
       "    </tr>\n",
       "    <tr>\n",
       "      <th>2005-03-03</th>\n",
       "      <td>138.59</td>\n",
       "      <td>138.59</td>\n",
       "      <td>132.24</td>\n",
       "      <td>134.89</td>\n",
       "      <td>120294</td>\n",
       "    </tr>\n",
       "  </tbody>\n",
       "</table>\n",
       "</div>"
      ],
      "text/plain": [
       "              Open    High     Low   Close  Volume\n",
       "Date                                              \n",
       "2005-02-25  141.94  143.84  141.20  143.18   89902\n",
       "2005-02-28  143.70  147.19  139.47  143.14  124965\n",
       "2005-03-01  141.79  142.57  131.36  134.50  229663\n",
       "2005-03-02  135.27  139.11  135.06  137.56   88113\n",
       "2005-03-03  138.59  138.59  132.24  134.89  120294"
      ]
     },
     "execution_count": 5,
     "metadata": {},
     "output_type": "execute_result"
    }
   ],
   "source": [
    "df.head()"
   ]
  },
  {
   "cell_type": "code",
   "execution_count": 6,
   "metadata": {
    "scrolled": true
   },
   "outputs": [
    {
     "data": {
      "image/png": "[encoded data removed]",
      "text/html": [
       "\n",
       "\n",
       "<style>\n",
       "\n",
       "</style>\n",
       "\n",
       "<div id=\"fig_el6116579595674885913846833\"></div>\n",
       "<script>\n",
       "function mpld3_load_lib(url, callback){\n",
       "  var s = document.createElement('script');\n",
       "  s.src = url;\n",
       "  s.async = true;\n",
       "  s.onreadystatechange = s.onload = callback;\n",
       "  s.onerror = function(){console.warn(\"failed to load library \" + url);};\n",
       "  document.getElementsByTagName(\"head\")[0].appendChild(s);\n",
       "}\n",
       "\n",
       "if(typeof(mpld3) !== \"undefined\" && mpld3._mpld3IsLoaded){\n",
       "   // already loaded: just create the figure\n",
       "   !function(mpld3){\n",
       "       \n",
       "       mpld3.draw_figure(\"fig_el6116579595674885913846833\", {\"width\": 432.0, \"height\": 288.0, \"axes\": [{\"bbox\": [0.125, 0.125, 0.13362068965517243, 0.755], \"xlim\": [0.5, 1.5], \"ylim\": [-5.5045, 173.89450000000002], \"xdomain\": [0.5, 1.5], \"ydomain\": [-5.5045, 173.89450000000002], \"xscale\": \"linear\", \"yscale\": \"linear\", \"axes\": [{\"position\": \"bottom\", \"nticks\": 1, \"tickvalues\": [1], \"tickformat\": [\"Open\"], \"scale\": \"linear\", \"fontsize\": 10.0, \"grid\": {\"gridOn\": false}, \"visible\": true}, {\"position\": \"left\", \"nticks\": 11, \"tickvalues\": null, \"tickformat\": null, \"scale\": \"linear\", \"fontsize\": 10.0, \"grid\": {\"gridOn\": false}, \"visible\": true}], \"axesbg\": \"#FFFFFF\", \"axesbgalpha\": null, \"zoomable\": true, \"id\": \"el611657959181616\", \"lines\": [{\"data\": \"data01\", \"xindex\": 0, \"yindex\": 1, \"coordinates\": \"data\", \"id\": \"el611657962920424\", \"color\": \"#1F77B4\", \"linewidth\": 1.0, \"dasharray\": \"none\", \"alpha\": 1, \"zorder\": 2, \"drawstyle\": \"default\"}, {\"data\": \"data02\", \"xindex\": 0, \"yindex\": 1, \"coordinates\": \"data\", \"id\": \"el611657962920816\", \"color\": \"#1F77B4\", \"linewidth\": 1.0, \"dasharray\": \"none\", \"alpha\": 1, \"zorder\": 2, \"drawstyle\": \"default\"}, {\"data\": \"data02\", \"xindex\": 0, \"yindex\": 2, \"coordinates\": \"data\", \"id\": \"el611657963323464\", \"color\": \"#1F77B4\", \"linewidth\": 1.0, \"dasharray\": \"none\", \"alpha\": 1, \"zorder\": 2, \"drawstyle\": \"default\"}, {\"data\": \"data03\", \"xindex\": 0, \"yindex\": 1, \"coordinates\": \"data\", \"id\": \"el611657963324584\", \"color\": \"#000000\", \"linewidth\": 1.0, \"dasharray\": \"none\", \"alpha\": 1, \"zorder\": 2, \"drawstyle\": \"default\"}, {\"data\": \"data03\", \"xindex\": 0, \"yindex\": 2, \"coordinates\": \"data\", \"id\": \"el611657963325704\", \"color\": \"#000000\", \"linewidth\": 1.0, \"dasharray\": \"none\", \"alpha\": 1, \"zorder\": 2, \"drawstyle\": \"default\"}, {\"data\": \"data04\", \"xindex\": 0, \"yindex\": 1, \"coordinates\": \"data\", \"id\": \"el611657963326824\", \"color\": \"#2CA02C\", \"linewidth\": 1.0, \"dasharray\": \"none\", \"alpha\": 1, \"zorder\": 2.1, \"drawstyle\": \"default\"}], \"paths\": [], \"markers\": [{\"data\": \"data05\", \"xindex\": 0, \"yindex\": 1, \"coordinates\": \"data\", \"id\": \"el611657963348488pts\", \"facecolor\": \"none\", \"edgecolor\": \"#000000\", \"edgewidth\": 1.0, \"alpha\": 1, \"zorder\": 2, \"markerpath\": [[[0.0, 3.0], [0.7956093000000001, 3.0], [1.5587396123545605, 2.683901074764725], [2.121320343559643, 2.121320343559643], [2.683901074764725, 1.5587396123545605], [3.0, 0.7956093000000001], [3.0, 0.0], [3.0, -0.7956093000000001], [2.683901074764725, -1.5587396123545605], [2.121320343559643, -2.121320343559643], [1.5587396123545605, -2.683901074764725], [0.7956093000000001, -3.0], [0.0, -3.0], [-0.7956093000000001, -3.0], [-1.5587396123545605, -2.683901074764725], [-2.121320343559643, -2.121320343559643], [-2.683901074764725, -1.5587396123545605], [-3.0, -0.7956093000000001], [-3.0, 0.0], [-3.0, 0.7956093000000001], [-2.683901074764725, 1.5587396123545605], [-2.121320343559643, 2.121320343559643], [-1.5587396123545605, 2.683901074764725], [-0.7956093000000001, 3.0], [0.0, 3.0]], [\"M\", \"C\", \"C\", \"C\", \"C\", \"C\", \"C\", \"C\", \"C\", \"Z\"]]}], \"texts\": [], \"collections\": [], \"images\": [], \"sharex\": [], \"sharey\": []}, {\"bbox\": [0.28534482758620694, 0.125, 0.13362068965517238, 0.755], \"xlim\": [0.5, 1.5], \"ylim\": [-5.3825, 175.7325], \"xdomain\": [0.5, 1.5], \"ydomain\": [-5.3825, 175.7325], \"xscale\": \"linear\", \"yscale\": \"linear\", \"axes\": [{\"position\": \"bottom\", \"nticks\": 1, \"tickvalues\": [1], \"tickformat\": [\"High\"], \"scale\": \"linear\", \"fontsize\": 10.0, \"grid\": {\"gridOn\": false}, \"visible\": true}, {\"position\": \"left\", \"nticks\": 10, \"tickvalues\": null, \"tickformat\": null, \"scale\": \"linear\", \"fontsize\": 10.0, \"grid\": {\"gridOn\": false}, \"visible\": true}], \"axesbg\": \"#FFFFFF\", \"axesbgalpha\": null, \"zoomable\": true, \"id\": \"el611657962000848\", \"lines\": [{\"data\": \"data01\", \"xindex\": 0, \"yindex\": 2, \"coordinates\": \"data\", \"id\": \"el611657963350784\", \"color\": \"#1F77B4\", \"linewidth\": 1.0, \"dasharray\": \"none\", \"alpha\": 1, \"zorder\": 2, \"drawstyle\": \"default\"}, {\"data\": \"data02\", \"xindex\": 0, \"yindex\": 3, \"coordinates\": \"data\", \"id\": \"el611657963351120\", \"color\": \"#1F77B4\", \"linewidth\": 1.0, \"dasharray\": \"none\", \"alpha\": 1, \"zorder\": 2, \"drawstyle\": \"default\"}, {\"data\": \"data02\", \"xindex\": 0, \"yindex\": 4, \"coordinates\": \"data\", \"id\": \"el611657963438432\", \"color\": \"#1F77B4\", \"linewidth\": 1.0, \"dasharray\": \"none\", \"alpha\": 1, \"zorder\": 2, \"drawstyle\": \"default\"}, {\"data\": \"data03\", \"xindex\": 0, \"yindex\": 3, \"coordinates\": \"data\", \"id\": \"el611657963439552\", \"color\": \"#000000\", \"linewidth\": 1.0, \"dasharray\": \"none\", \"alpha\": 1, \"zorder\": 2, \"drawstyle\": \"default\"}, {\"data\": \"data03\", \"xindex\": 0, \"yindex\": 4, \"coordinates\": \"data\", \"id\": \"el611657963440672\", \"color\": \"#000000\", \"linewidth\": 1.0, \"dasharray\": \"none\", \"alpha\": 1, \"zorder\": 2, \"drawstyle\": \"default\"}, {\"data\": \"data04\", \"xindex\": 0, \"yindex\": 2, \"coordinates\": \"data\", \"id\": \"el611657963441792\", \"color\": \"#2CA02C\", \"linewidth\": 1.0, \"dasharray\": \"none\", \"alpha\": 1, \"zorder\": 2.1, \"drawstyle\": \"default\"}], \"paths\": [], \"markers\": [{\"data\": \"data05\", \"xindex\": 0, \"yindex\": 0, \"coordinates\": \"data\", \"id\": \"el611657963467552pts\", \"facecolor\": \"none\", \"edgecolor\": \"#000000\", \"edgewidth\": 1.0, \"alpha\": 1, \"zorder\": 2, \"markerpath\": [[[0.0, 3.0], [0.7956093000000001, 3.0], [1.5587396123545605, 2.683901074764725], [2.121320343559643, 2.121320343559643], [2.683901074764725, 1.5587396123545605], [3.0, 0.7956093000000001], [3.0, 0.0], [3.0, -0.7956093000000001], [2.683901074764725, -1.5587396123545605], [2.121320343559643, -2.121320343559643], [1.5587396123545605, -2.683901074764725], [0.7956093000000001, -3.0], [0.0, -3.0], [-0.7956093000000001, -3.0], [-1.5587396123545605, -2.683901074764725], [-2.121320343559643, -2.121320343559643], [-2.683901074764725, -1.5587396123545605], [-3.0, -0.7956093000000001], [-3.0, 0.0], [-3.0, 0.7956093000000001], [-2.683901074764725, 1.5587396123545605], [-2.121320343559643, 2.121320343559643], [-1.5587396123545605, 2.683901074764725], [-0.7956093000000001, 3.0], [0.0, 3.0]], [\"M\", \"C\", \"C\", \"C\", \"C\", \"C\", \"C\", \"C\", \"C\", \"Z\"]]}], \"texts\": [], \"collections\": [], \"images\": [], \"sharex\": [], \"sharey\": []}, {\"bbox\": [0.4456896551724138, 0.125, 0.13362068965517243, 0.755], \"xlim\": [0.5, 1.5], \"ylim\": [-5.4865, 171.3165], \"xdomain\": [0.5, 1.5], \"ydomain\": [-5.4865, 171.3165], \"xscale\": \"linear\", \"yscale\": \"linear\", \"axes\": [{\"position\": \"bottom\", \"nticks\": 1, \"tickvalues\": [1], \"tickformat\": [\"Low\"], \"scale\": \"linear\", \"fontsize\": 10.0, \"grid\": {\"gridOn\": false}, \"visible\": true}, {\"position\": \"left\", \"nticks\": 11, \"tickvalues\": null, \"tickformat\": null, \"scale\": \"linear\", \"fontsize\": 10.0, \"grid\": {\"gridOn\": false}, \"visible\": true}], \"axesbg\": \"#FFFFFF\", \"axesbgalpha\": null, \"zoomable\": true, \"id\": \"el611657962250704\", \"lines\": [{\"data\": \"data01\", \"xindex\": 0, \"yindex\": 3, \"coordinates\": \"data\", \"id\": \"el611657963469736\", \"color\": \"#1F77B4\", \"linewidth\": 1.0, \"dasharray\": \"none\", \"alpha\": 1, \"zorder\": 2, \"drawstyle\": \"default\"}, {\"data\": \"data02\", \"xindex\": 0, \"yindex\": 5, \"coordinates\": \"data\", \"id\": \"el611657963470072\", \"color\": \"#1F77B4\", \"linewidth\": 1.0, \"dasharray\": \"none\", \"alpha\": 1, \"zorder\": 2, \"drawstyle\": \"default\"}, {\"data\": \"data02\", \"xindex\": 0, \"yindex\": 6, \"coordinates\": \"data\", \"id\": \"el611657963500040\", \"color\": \"#1F77B4\", \"linewidth\": 1.0, \"dasharray\": \"none\", \"alpha\": 1, \"zorder\": 2, \"drawstyle\": \"default\"}, {\"data\": \"data03\", \"xindex\": 0, \"yindex\": 5, \"coordinates\": \"data\", \"id\": \"el611657963501160\", \"color\": \"#000000\", \"linewidth\": 1.0, \"dasharray\": \"none\", \"alpha\": 1, \"zorder\": 2, \"drawstyle\": \"default\"}, {\"data\": \"data03\", \"xindex\": 0, \"yindex\": 6, \"coordinates\": \"data\", \"id\": \"el611657963502280\", \"color\": \"#000000\", \"linewidth\": 1.0, \"dasharray\": \"none\", \"alpha\": 1, \"zorder\": 2, \"drawstyle\": \"default\"}, {\"data\": \"data04\", \"xindex\": 0, \"yindex\": 3, \"coordinates\": \"data\", \"id\": \"el611657963503400\", \"color\": \"#2CA02C\", \"linewidth\": 1.0, \"dasharray\": \"none\", \"alpha\": 1, \"zorder\": 2.1, \"drawstyle\": \"default\"}], \"paths\": [], \"markers\": [{\"data\": \"data05\", \"xindex\": 0, \"yindex\": 0, \"coordinates\": \"data\", \"id\": \"el611657963668424pts\", \"facecolor\": \"none\", \"edgecolor\": \"#000000\", \"edgewidth\": 1.0, \"alpha\": 1, \"zorder\": 2, \"markerpath\": [[[0.0, 3.0], [0.7956093000000001, 3.0], [1.5587396123545605, 2.683901074764725], [2.121320343559643, 2.121320343559643], [2.683901074764725, 1.5587396123545605], [3.0, 0.7956093000000001], [3.0, 0.0], [3.0, -0.7956093000000001], [2.683901074764725, -1.5587396123545605], [2.121320343559643, -2.121320343559643], [1.5587396123545605, -2.683901074764725], [0.7956093000000001, -3.0], [0.0, -3.0], [-0.7956093000000001, -3.0], [-1.5587396123545605, -2.683901074764725], [-2.121320343559643, -2.121320343559643], [-2.683901074764725, -1.5587396123545605], [-3.0, -0.7956093000000001], [-3.0, 0.0], [-3.0, 0.7956093000000001], [-2.683901074764725, 1.5587396123545605], [-2.121320343559643, 2.121320343559643], [-1.5587396123545605, 2.683901074764725], [-0.7956093000000001, 3.0], [0.0, 3.0]], [\"M\", \"C\", \"C\", \"C\", \"C\", \"C\", \"C\", \"C\", \"C\", \"Z\"]]}], \"texts\": [], \"collections\": [], \"images\": [], \"sharex\": [], \"sharey\": []}, {\"bbox\": [0.6060344827586208, 0.125, 0.13362068965517238, 0.755], \"xlim\": [0.5, 1.5], \"ylim\": [-5.436700000000001, 173.7027], \"xdomain\": [0.5, 1.5], \"ydomain\": [-5.436700000000001, 173.7027], \"xscale\": \"linear\", \"yscale\": \"linear\", \"axes\": [{\"position\": \"bottom\", \"nticks\": 1, \"tickvalues\": [1], \"tickformat\": [\"Close\"], \"scale\": \"linear\", \"fontsize\": 10.0, \"grid\": {\"gridOn\": false}, \"visible\": true}, {\"position\": \"left\", \"nticks\": 11, \"tickvalues\": null, \"tickformat\": null, \"scale\": \"linear\", \"fontsize\": 10.0, \"grid\": {\"gridOn\": false}, \"visible\": true}], \"axesbg\": \"#FFFFFF\", \"axesbgalpha\": null, \"zoomable\": true, \"id\": \"el611657962444224\", \"lines\": [{\"data\": \"data01\", \"xindex\": 0, \"yindex\": 4, \"coordinates\": \"data\", \"id\": \"el611657963670608\", \"color\": \"#1F77B4\", \"linewidth\": 1.0, \"dasharray\": \"none\", \"alpha\": 1, \"zorder\": 2, \"drawstyle\": \"default\"}, {\"data\": \"data02\", \"xindex\": 0, \"yindex\": 7, \"coordinates\": \"data\", \"id\": \"el611657963670944\", \"color\": \"#1F77B4\", \"linewidth\": 1.0, \"dasharray\": \"none\", \"alpha\": 1, \"zorder\": 2, \"drawstyle\": \"default\"}, {\"data\": \"data02\", \"xindex\": 0, \"yindex\": 8, \"coordinates\": \"data\", \"id\": \"el611657963692720\", \"color\": \"#1F77B4\", \"linewidth\": 1.0, \"dasharray\": \"none\", \"alpha\": 1, \"zorder\": 2, \"drawstyle\": \"default\"}, {\"data\": \"data03\", \"xindex\": 0, \"yindex\": 7, \"coordinates\": \"data\", \"id\": \"el611657963693840\", \"color\": \"#000000\", \"linewidth\": 1.0, \"dasharray\": \"none\", \"alpha\": 1, \"zorder\": 2, \"drawstyle\": \"default\"}, {\"data\": \"data03\", \"xindex\": 0, \"yindex\": 8, \"coordinates\": \"data\", \"id\": \"el611657963694960\", \"color\": \"#000000\", \"linewidth\": 1.0, \"dasharray\": \"none\", \"alpha\": 1, \"zorder\": 2, \"drawstyle\": \"default\"}, {\"data\": \"data04\", \"xindex\": 0, \"yindex\": 4, \"coordinates\": \"data\", \"id\": \"el611657963696080\", \"color\": \"#2CA02C\", \"linewidth\": 1.0, \"dasharray\": \"none\", \"alpha\": 1, \"zorder\": 2.1, \"drawstyle\": \"default\"}], \"paths\": [], \"markers\": [{\"data\": \"data05\", \"xindex\": 0, \"yindex\": 0, \"coordinates\": \"data\", \"id\": \"el611657963738224pts\", \"facecolor\": \"none\", \"edgecolor\": \"#000000\", \"edgewidth\": 1.0, \"alpha\": 1, \"zorder\": 2, \"markerpath\": [[[0.0, 3.0], [0.7956093000000001, 3.0], [1.5587396123545605, 2.683901074764725], [2.121320343559643, 2.121320343559643], [2.683901074764725, 1.5587396123545605], [3.0, 0.7956093000000001], [3.0, 0.0], [3.0, -0.7956093000000001], [2.683901074764725, -1.5587396123545605], [2.121320343559643, -2.121320343559643], [1.5587396123545605, -2.683901074764725], [0.7956093000000001, -3.0], [0.0, -3.0], [-0.7956093000000001, -3.0], [-1.5587396123545605, -2.683901074764725], [-2.121320343559643, -2.121320343559643], [-2.683901074764725, -1.5587396123545605], [-3.0, -0.7956093000000001], [-3.0, 0.0], [-3.0, 0.7956093000000001], [-2.683901074764725, 1.5587396123545605], [-2.121320343559643, 2.121320343559643], [-1.5587396123545605, 2.683901074764725], [-0.7956093000000001, 3.0], [0.0, 3.0]], [\"M\", \"C\", \"C\", \"C\", \"C\", \"C\", \"C\", \"C\", \"C\", \"Z\"]]}], \"texts\": [], \"collections\": [], \"images\": [], \"sharex\": [], \"sharey\": []}, {\"bbox\": [0.7663793103448276, 0.125, 0.1336206896551725, 0.755], \"xlim\": [0.5, 1.5], \"ylim\": [-98900.90000000001, 2233976.9], \"xdomain\": [0.5, 1.5], \"ydomain\": [-98900.90000000001, 2233976.9], \"xscale\": \"linear\", \"yscale\": \"linear\", \"axes\": [{\"position\": \"bottom\", \"nticks\": 1, \"tickvalues\": [1], \"tickformat\": [\"Volume\"], \"scale\": \"linear\", \"fontsize\": 10.0, \"grid\": {\"gridOn\": false}, \"visible\": true}, {\"position\": \"left\", \"nticks\": 7, \"tickvalues\": null, \"tickformat\": null, \"scale\": \"linear\", \"fontsize\": 10.0, \"grid\": {\"gridOn\": false}, \"visible\": true}], \"axesbg\": \"#FFFFFF\", \"axesbgalpha\": null, \"zoomable\": true, \"id\": \"el611657962686000\", \"lines\": [{\"data\": \"data01\", \"xindex\": 0, \"yindex\": 5, \"coordinates\": \"data\", \"id\": \"el611657963740408\", \"color\": \"#1F77B4\", \"linewidth\": 1.0, \"dasharray\": \"none\", \"alpha\": 1, \"zorder\": 2, \"drawstyle\": \"default\"}, {\"data\": \"data02\", \"xindex\": 0, \"yindex\": 9, \"coordinates\": \"data\", \"id\": \"el611657963740744\", \"color\": \"#1F77B4\", \"linewidth\": 1.0, \"dasharray\": \"none\", \"alpha\": 1, \"zorder\": 2, \"drawstyle\": \"default\"}, {\"data\": \"data02\", \"xindex\": 0, \"yindex\": 10, \"coordinates\": \"data\", \"id\": \"el611657963774808\", \"color\": \"#1F77B4\", \"linewidth\": 1.0, \"dasharray\": \"none\", \"alpha\": 1, \"zorder\": 2, \"drawstyle\": \"default\"}, {\"data\": \"data03\", \"xindex\": 0, \"yindex\": 9, \"coordinates\": \"data\", \"id\": \"el611657963775928\", \"color\": \"#000000\", \"linewidth\": 1.0, \"dasharray\": \"none\", \"alpha\": 1, \"zorder\": 2, \"drawstyle\": \"default\"}, {\"data\": \"data03\", \"xindex\": 0, \"yindex\": 10, \"coordinates\": \"data\", \"id\": \"el611657963777048\", \"color\": \"#000000\", \"linewidth\": 1.0, \"dasharray\": \"none\", \"alpha\": 1, \"zorder\": 2, \"drawstyle\": \"default\"}, {\"data\": \"data04\", \"xindex\": 0, \"yindex\": 5, \"coordinates\": \"data\", \"id\": \"el611657963798712\", \"color\": \"#2CA02C\", \"linewidth\": 1.0, \"dasharray\": \"none\", \"alpha\": 1, \"zorder\": 2.1, \"drawstyle\": \"default\"}], \"paths\": [], \"markers\": [{\"data\": \"data06\", \"xindex\": 0, \"yindex\": 1, \"coordinates\": \"data\", \"id\": \"el611657963799832pts\", \"facecolor\": \"none\", \"edgecolor\": \"#000000\", \"edgewidth\": 1.0, \"alpha\": 1, \"zorder\": 2, \"markerpath\": [[[0.0, 3.0], [0.7956093000000001, 3.0], [1.5587396123545605, 2.683901074764725], [2.121320343559643, 2.121320343559643], [2.683901074764725, 1.5587396123545605], [3.0, 0.7956093000000001], [3.0, 0.0], [3.0, -0.7956093000000001], [2.683901074764725, -1.5587396123545605], [2.121320343559643, -2.121320343559643], [1.5587396123545605, -2.683901074764725], [0.7956093000000001, -3.0], [0.0, -3.0], [-0.7956093000000001, -3.0], [-1.5587396123545605, -2.683901074764725], [-2.121320343559643, -2.121320343559643], [-2.683901074764725, -1.5587396123545605], [-3.0, -0.7956093000000001], [-3.0, 0.0], [-3.0, 0.7956093000000001], [-2.683901074764725, 1.5587396123545605], [-2.121320343559643, 2.121320343559643], [-1.5587396123545605, 2.683901074764725], [-0.7956093000000001, 3.0], [0.0, 3.0]], [\"M\", \"C\", \"C\", \"C\", \"C\", \"C\", \"C\", \"C\", \"C\", \"Z\"]]}], \"texts\": [], \"collections\": [], \"images\": [], \"sharex\": [], \"sharey\": []}], \"data\": {\"data01\": [[0.925, 26.695999999999998, 27.21, 26.206, 26.695999999999998, 33475.0], [1.075, 26.695999999999998, 27.21, 26.206, 26.695999999999998, 33475.0], [1.075, 87.39, 88.58, 85.94, 87.315, 88580.0], [0.925, 87.39, 88.58, 85.94, 87.315, 88580.0], [0.925, 26.695999999999998, 27.21, 26.206, 26.695999999999998, 33475.0]], \"data02\": [[1.0, 26.695999999999998, 87.39, 27.21, 88.58, 26.206, 85.94, 26.695999999999998, 87.315, 33475.0, 88580.0], [1.0, 2.65, 165.74, 2.85, 167.5, 2.55, 163.28, 2.7060000000000004, 165.56, 7139.0, 171080.0]], \"data03\": [[0.9625, 2.65, 165.74, 2.85, 167.5, 2.55, 163.28, 2.7060000000000004, 165.56, 7139.0, 171080.0], [1.0375, 2.65, 165.74, 2.85, 167.5, 2.55, 163.28, 2.7060000000000004, 165.56, 7139.0, 171080.0]], \"data04\": [[0.925, 55.015, 56.285, 53.6, 54.975, 51710.0], [1.075, 55.015, 56.285, 53.6, 54.975, 51710.0]], \"data05\": [], \"data06\": [[1.0, 229663.0], [1.0, 312669.0], [1.0, 305384.0], [1.0, 272763.0], [1.0, 258085.0], [1.0, 217367.0], [1.0, 192604.0], [1.0, 342619.0], [1.0, 193475.0], [1.0, 280896.0], [1.0, 220397.0], [1.0, 304344.0], [1.0, 205804.0], [1.0, 522486.0], [1.0, 184842.0], [1.0, 218614.0], [1.0, 238550.0], [1.0, 219923.0], [1.0, 854786.0], [1.0, 175213.0], [1.0, 193439.0], [1.0, 215070.0], [1.0, 208672.0], [1.0, 181479.0], [1.0, 314742.0], [1.0, 180106.0], [1.0, 174861.0], [1.0, 316589.0], [1.0, 244940.0], [1.0, 185757.0], [1.0, 201790.0], [1.0, 197572.0], [1.0, 816160.0], [1.0, 249004.0], [1.0, 216297.0], [1.0, 191345.0], [1.0, 249279.0], [1.0, 194379.0], [1.0, 173525.0], [1.0, 187285.0], [1.0, 568976.0], [1.0, 200758.0], [1.0, 289367.0], [1.0, 175089.0], [1.0, 180979.0], [1.0, 218559.0], [1.0, 234911.0], [1.0, 305333.0], [1.0, 308882.0], [1.0, 185373.0], [1.0, 173871.0], [1.0, 178671.0], [1.0, 197772.0], [1.0, 191226.0], [1.0, 219410.0], [1.0, 224048.0], [1.0, 210840.0], [1.0, 175188.0], [1.0, 221821.0], [1.0, 191620.0], [1.0, 285477.0], [1.0, 248205.0], [1.0, 294764.0], [1.0, 189191.0], [1.0, 231615.0], [1.0, 220877.0], [1.0, 334417.0], [1.0, 299879.0], [1.0, 174450.0], [1.0, 253038.0], [1.0, 212826.0], [1.0, 281324.0], [1.0, 263045.0], [1.0, 372250.0], [1.0, 273287.0], [1.0, 251764.0], [1.0, 274895.0], [1.0, 266155.0], [1.0, 275608.0], [1.0, 246922.0], [1.0, 245328.0], [1.0, 359505.0], [1.0, 176741.0], [1.0, 178672.0], [1.0, 212338.0], [1.0, 215835.0], [1.0, 212128.0], [1.0, 204757.0], [1.0, 245550.0], [1.0, 189641.0], [1.0, 318571.0], [1.0, 268714.0], [1.0, 435328.0], [1.0, 232079.0], [1.0, 191736.0], [1.0, 204143.0], [1.0, 202358.0], [1.0, 287748.0], [1.0, 373661.0], [1.0, 216513.0], [1.0, 211911.0], [1.0, 221317.0], [1.0, 412456.0], [1.0, 213033.0], [1.0, 189606.0], [1.0, 184587.0], [1.0, 206017.0], [1.0, 620117.0], [1.0, 562190.0], [1.0, 370096.0], [1.0, 371868.0], [1.0, 302004.0], [1.0, 186537.0], [1.0, 173820.0], [1.0, 171331.0], [1.0, 177060.0], [1.0, 771934.0], [1.0, 195920.0], [1.0, 306340.0], [1.0, 256300.0], [1.0, 200460.0], [1.0, 219300.0], [1.0, 192140.0], [1.0, 231753.0], [1.0, 177501.0], [1.0, 382299.0], [1.0, 375832.0], [1.0, 234433.0], [1.0, 195247.0], [1.0, 324238.0], [1.0, 304747.0], [1.0, 183611.0], [1.0, 182401.0], [1.0, 533132.0], [1.0, 282562.0], [1.0, 989736.0], [1.0, 186691.0], [1.0, 202517.0], [1.0, 407313.0], [1.0, 249244.0], [1.0, 183090.0], [1.0, 286737.0], [1.0, 420484.0], [1.0, 423123.0], [1.0, 287309.0], [1.0, 483784.0], [1.0, 1566145.0], [1.0, 872522.0], [1.0, 253638.0], [1.0, 238172.0], [1.0, 345594.0], [1.0, 200282.0], [1.0, 182934.0], [1.0, 210615.0], [1.0, 179341.0], [1.0, 246579.0], [1.0, 331302.0], [1.0, 239752.0], [1.0, 246408.0], [1.0, 663772.0], [1.0, 746482.0], [1.0, 456146.0], [1.0, 394395.0], [1.0, 350208.0], [1.0, 245641.0], [1.0, 181896.0], [1.0, 279519.0], [1.0, 326028.0], [1.0, 182067.0], [1.0, 1761585.0], [1.0, 561428.0], [1.0, 402405.0], [1.0, 180185.0], [1.0, 503508.0], [1.0, 273962.0], [1.0, 463573.0], [1.0, 209566.0], [1.0, 319471.0], [1.0, 464392.0], [1.0, 479519.0], [1.0, 598483.0], [1.0, 503151.0], [1.0, 274378.0], [1.0, 234781.0], [1.0, 247563.0], [1.0, 597174.0], [1.0, 824182.0], [1.0, 601029.0], [1.0, 624374.0], [1.0, 363476.0], [1.0, 540426.0], [1.0, 420480.0], [1.0, 543869.0], [1.0, 303582.0], [1.0, 392072.0], [1.0, 1045873.0], [1.0, 768281.0], [1.0, 294616.0], [1.0, 254411.0], [1.0, 369436.0], [1.0, 389813.0], [1.0, 537018.0], [1.0, 1592794.0], [1.0, 2127937.0], [1.0, 775589.0], [1.0, 424958.0], [1.0, 542584.0], [1.0, 379018.0], [1.0, 236349.0], [1.0, 1540971.0], [1.0, 978687.0], [1.0, 1271092.0], [1.0, 502674.0], [1.0, 593258.0], [1.0, 290587.0], [1.0, 397477.0], [1.0, 398935.0], [1.0, 500152.0], [1.0, 643158.0], [1.0, 783484.0], [1.0, 894673.0], [1.0, 475925.0], [1.0, 587875.0], [1.0, 292734.0], [1.0, 278726.0], [1.0, 314144.0], [1.0, 381049.0], [1.0, 390733.0], [1.0, 372341.0], [1.0, 308368.0], [1.0, 443455.0], [1.0, 360653.0], [1.0, 336090.0], [1.0, 362576.0], [1.0, 962686.0], [1.0, 424293.0], [1.0, 316057.0], [1.0, 411026.0], [1.0, 649203.0], [1.0, 561052.0], [1.0, 570653.0], [1.0, 221614.0], [1.0, 336548.0], [1.0, 361051.0], [1.0, 547920.0], [1.0, 751020.0], [1.0, 424053.0], [1.0, 303983.0], [1.0, 446689.0], [1.0, 266385.0], [1.0, 215086.0], [1.0, 299084.0], [1.0, 181173.0], [1.0, 343336.0], [1.0, 372356.0], [1.0, 257785.0], [1.0, 259387.0], [1.0, 277072.0], [1.0, 312691.0], [1.0, 426371.0], [1.0, 257403.0], [1.0, 370125.0], [1.0, 187959.0], [1.0, 331315.0], [1.0, 198918.0], [1.0, 294719.0], [1.0, 315198.0], [1.0, 200916.0], [1.0, 221211.0], [1.0, 289687.0], [1.0, 177705.0], [1.0, 289237.0], [1.0, 254104.0], [1.0, 228444.0], [1.0, 273240.0], [1.0, 360036.0], [1.0, 220315.0], [1.0, 247815.0], [1.0, 200669.0], [1.0, 233257.0], [1.0, 324925.0], [1.0, 386029.0], [1.0, 651095.0], [1.0, 331713.0], [1.0, 244081.0], [1.0, 383358.0], [1.0, 233363.0], [1.0, 662087.0], [1.0, 346871.0], [1.0, 320184.0], [1.0, 231197.0], [1.0, 314836.0], [1.0, 195351.0], [1.0, 291189.0], [1.0, 185714.0], [1.0, 189161.0], [1.0, 407708.0], [1.0, 216971.0], [1.0, 181150.0], [1.0, 226283.0], [1.0, 357499.0], [1.0, 255838.0], [1.0, 278627.0], [1.0, 214761.0], [1.0, 240697.0], [1.0, 535831.0], [1.0, 231603.0], [1.0, 444325.0], [1.0, 226341.0], [1.0, 251462.0], [1.0, 223225.0], [1.0, 196565.0], [1.0, 256757.0], [1.0, 257417.0], [1.0, 378981.0], [1.0, 565788.0], [1.0, 206210.0], [1.0, 285029.0]]}, \"id\": \"el611657959567488\", \"plugins\": [{\"type\": \"reset\"}, {\"type\": \"zoom\", \"button\": true, \"enabled\": false}, {\"type\": \"boxzoom\", \"button\": true, \"enabled\": false}]});\n",
       "   }(mpld3);\n",
       "}else if(typeof define === \"function\" && define.amd){\n",
       "   // require.js is available: use it to load d3/mpld3\n",
       "   require.config({paths: {d3: \"https://mpld3.github.io/js/d3.v3.min\"}});\n",
       "   require([\"d3\"], function(d3){\n",
       "      window.d3 = d3;\n",
       "      mpld3_load_lib(\"https://mpld3.github.io/js/mpld3.v0.3.js\", function(){\n",
       "         \n",
       "         mpld3.draw_figure(\"fig_el6116579595674885913846833\", {\"width\": 432.0, \"height\": 288.0, \"axes\": [{\"bbox\": [0.125, 0.125, 0.13362068965517243, 0.755], \"xlim\": [0.5, 1.5], \"ylim\": [-5.5045, 173.89450000000002], \"xdomain\": [0.5, 1.5], \"ydomain\": [-5.5045, 173.89450000000002], \"xscale\": \"linear\", \"yscale\": \"linear\", \"axes\": [{\"position\": \"bottom\", \"nticks\": 1, \"tickvalues\": [1], \"tickformat\": [\"Open\"], \"scale\": \"linear\", \"fontsize\": 10.0, \"grid\": {\"gridOn\": false}, \"visible\": true}, {\"position\": \"left\", \"nticks\": 11, \"tickvalues\": null, \"tickformat\": null, \"scale\": \"linear\", \"fontsize\": 10.0, \"grid\": {\"gridOn\": false}, \"visible\": true}], \"axesbg\": \"#FFFFFF\", \"axesbgalpha\": null, \"zoomable\": true, \"id\": \"el611657959181616\", \"lines\": [{\"data\": \"data01\", \"xindex\": 0, \"yindex\": 1, \"coordinates\": \"data\", \"id\": \"el611657962920424\", \"color\": \"#1F77B4\", \"linewidth\": 1.0, \"dasharray\": \"none\", \"alpha\": 1, \"zorder\": 2, \"drawstyle\": \"default\"}, {\"data\": \"data02\", \"xindex\": 0, \"yindex\": 1, \"coordinates\": \"data\", \"id\": \"el611657962920816\", \"color\": \"#1F77B4\", \"linewidth\": 1.0, \"dasharray\": \"none\", \"alpha\": 1, \"zorder\": 2, \"drawstyle\": \"default\"}, {\"data\": \"data02\", \"xindex\": 0, \"yindex\": 2, \"coordinates\": \"data\", \"id\": \"el611657963323464\", \"color\": \"#1F77B4\", \"linewidth\": 1.0, \"dasharray\": \"none\", \"alpha\": 1, \"zorder\": 2, \"drawstyle\": \"default\"}, {\"data\": \"data03\", \"xindex\": 0, \"yindex\": 1, \"coordinates\": \"data\", \"id\": \"el611657963324584\", \"color\": \"#000000\", \"linewidth\": 1.0, \"dasharray\": \"none\", \"alpha\": 1, \"zorder\": 2, \"drawstyle\": \"default\"}, {\"data\": \"data03\", \"xindex\": 0, \"yindex\": 2, \"coordinates\": \"data\", \"id\": \"el611657963325704\", \"color\": \"#000000\", \"linewidth\": 1.0, \"dasharray\": \"none\", \"alpha\": 1, \"zorder\": 2, \"drawstyle\": \"default\"}, {\"data\": \"data04\", \"xindex\": 0, \"yindex\": 1, \"coordinates\": \"data\", \"id\": \"el611657963326824\", \"color\": \"#2CA02C\", \"linewidth\": 1.0, \"dasharray\": \"none\", \"alpha\": 1, \"zorder\": 2.1, \"drawstyle\": \"default\"}], \"paths\": [], \"markers\": [{\"data\": \"data05\", \"xindex\": 0, \"yindex\": 1, \"coordinates\": \"data\", \"id\": \"el611657963348488pts\", \"facecolor\": \"none\", \"edgecolor\": \"#000000\", \"edgewidth\": 1.0, \"alpha\": 1, \"zorder\": 2, \"markerpath\": [[[0.0, 3.0], [0.7956093000000001, 3.0], [1.5587396123545605, 2.683901074764725], [2.121320343559643, 2.121320343559643], [2.683901074764725, 1.5587396123545605], [3.0, 0.7956093000000001], [3.0, 0.0], [3.0, -0.7956093000000001], [2.683901074764725, -1.5587396123545605], [2.121320343559643, -2.121320343559643], [1.5587396123545605, -2.683901074764725], [0.7956093000000001, -3.0], [0.0, -3.0], [-0.7956093000000001, -3.0], [-1.5587396123545605, -2.683901074764725], [-2.121320343559643, -2.121320343559643], [-2.683901074764725, -1.5587396123545605], [-3.0, -0.7956093000000001], [-3.0, 0.0], [-3.0, 0.7956093000000001], [-2.683901074764725, 1.5587396123545605], [-2.121320343559643, 2.121320343559643], [-1.5587396123545605, 2.683901074764725], [-0.7956093000000001, 3.0], [0.0, 3.0]], [\"M\", \"C\", \"C\", \"C\", \"C\", \"C\", \"C\", \"C\", \"C\", \"Z\"]]}], \"texts\": [], \"collections\": [], \"images\": [], \"sharex\": [], \"sharey\": []}, {\"bbox\": [0.28534482758620694, 0.125, 0.13362068965517238, 0.755], \"xlim\": [0.5, 1.5], \"ylim\": [-5.3825, 175.7325], \"xdomain\": [0.5, 1.5], \"ydomain\": [-5.3825, 175.7325], \"xscale\": \"linear\", \"yscale\": \"linear\", \"axes\": [{\"position\": \"bottom\", \"nticks\": 1, \"tickvalues\": [1], \"tickformat\": [\"High\"], \"scale\": \"linear\", \"fontsize\": 10.0, \"grid\": {\"gridOn\": false}, \"visible\": true}, {\"position\": \"left\", \"nticks\": 10, \"tickvalues\": null, \"tickformat\": null, \"scale\": \"linear\", \"fontsize\": 10.0, \"grid\": {\"gridOn\": false}, \"visible\": true}], \"axesbg\": \"#FFFFFF\", \"axesbgalpha\": null, \"zoomable\": true, \"id\": \"el611657962000848\", \"lines\": [{\"data\": \"data01\", \"xindex\": 0, \"yindex\": 2, \"coordinates\": \"data\", \"id\": \"el611657963350784\", \"color\": \"#1F77B4\", \"linewidth\": 1.0, \"dasharray\": \"none\", \"alpha\": 1, \"zorder\": 2, \"drawstyle\": \"default\"}, {\"data\": \"data02\", \"xindex\": 0, \"yindex\": 3, \"coordinates\": \"data\", \"id\": \"el611657963351120\", \"color\": \"#1F77B4\", \"linewidth\": 1.0, \"dasharray\": \"none\", \"alpha\": 1, \"zorder\": 2, \"drawstyle\": \"default\"}, {\"data\": \"data02\", \"xindex\": 0, \"yindex\": 4, \"coordinates\": \"data\", \"id\": \"el611657963438432\", \"color\": \"#1F77B4\", \"linewidth\": 1.0, \"dasharray\": \"none\", \"alpha\": 1, \"zorder\": 2, \"drawstyle\": \"default\"}, {\"data\": \"data03\", \"xindex\": 0, \"yindex\": 3, \"coordinates\": \"data\", \"id\": \"el611657963439552\", \"color\": \"#000000\", \"linewidth\": 1.0, \"dasharray\": \"none\", \"alpha\": 1, \"zorder\": 2, \"drawstyle\": \"default\"}, {\"data\": \"data03\", \"xindex\": 0, \"yindex\": 4, \"coordinates\": \"data\", \"id\": \"el611657963440672\", \"color\": \"#000000\", \"linewidth\": 1.0, \"dasharray\": \"none\", \"alpha\": 1, \"zorder\": 2, \"drawstyle\": \"default\"}, {\"data\": \"data04\", \"xindex\": 0, \"yindex\": 2, \"coordinates\": \"data\", \"id\": \"el611657963441792\", \"color\": \"#2CA02C\", \"linewidth\": 1.0, \"dasharray\": \"none\", \"alpha\": 1, \"zorder\": 2.1, \"drawstyle\": \"default\"}], \"paths\": [], \"markers\": [{\"data\": \"data05\", \"xindex\": 0, \"yindex\": 0, \"coordinates\": \"data\", \"id\": \"el611657963467552pts\", \"facecolor\": \"none\", \"edgecolor\": \"#000000\", \"edgewidth\": 1.0, \"alpha\": 1, \"zorder\": 2, \"markerpath\": [[[0.0, 3.0], [0.7956093000000001, 3.0], [1.5587396123545605, 2.683901074764725], [2.121320343559643, 2.121320343559643], [2.683901074764725, 1.5587396123545605], [3.0, 0.7956093000000001], [3.0, 0.0], [3.0, -0.7956093000000001], [2.683901074764725, -1.5587396123545605], [2.121320343559643, -2.121320343559643], [1.5587396123545605, -2.683901074764725], [0.7956093000000001, -3.0], [0.0, -3.0], [-0.7956093000000001, -3.0], [-1.5587396123545605, -2.683901074764725], [-2.121320343559643, -2.121320343559643], [-2.683901074764725, -1.5587396123545605], [-3.0, -0.7956093000000001], [-3.0, 0.0], [-3.0, 0.7956093000000001], [-2.683901074764725, 1.5587396123545605], [-2.121320343559643, 2.121320343559643], [-1.5587396123545605, 2.683901074764725], [-0.7956093000000001, 3.0], [0.0, 3.0]], [\"M\", \"C\", \"C\", \"C\", \"C\", \"C\", \"C\", \"C\", \"C\", \"Z\"]]}], \"texts\": [], \"collections\": [], \"images\": [], \"sharex\": [], \"sharey\": []}, {\"bbox\": [0.4456896551724138, 0.125, 0.13362068965517243, 0.755], \"xlim\": [0.5, 1.5], \"ylim\": [-5.4865, 171.3165], \"xdomain\": [0.5, 1.5], \"ydomain\": [-5.4865, 171.3165], \"xscale\": \"linear\", \"yscale\": \"linear\", \"axes\": [{\"position\": \"bottom\", \"nticks\": 1, \"tickvalues\": [1], \"tickformat\": [\"Low\"], \"scale\": \"linear\", \"fontsize\": 10.0, \"grid\": {\"gridOn\": false}, \"visible\": true}, {\"position\": \"left\", \"nticks\": 11, \"tickvalues\": null, \"tickformat\": null, \"scale\": \"linear\", \"fontsize\": 10.0, \"grid\": {\"gridOn\": false}, \"visible\": true}], \"axesbg\": \"#FFFFFF\", \"axesbgalpha\": null, \"zoomable\": true, \"id\": \"el611657962250704\", \"lines\": [{\"data\": \"data01\", \"xindex\": 0, \"yindex\": 3, \"coordinates\": \"data\", \"id\": \"el611657963469736\", \"color\": \"#1F77B4\", \"linewidth\": 1.0, \"dasharray\": \"none\", \"alpha\": 1, \"zorder\": 2, \"drawstyle\": \"default\"}, {\"data\": \"data02\", \"xindex\": 0, \"yindex\": 5, \"coordinates\": \"data\", \"id\": \"el611657963470072\", \"color\": \"#1F77B4\", \"linewidth\": 1.0, \"dasharray\": \"none\", \"alpha\": 1, \"zorder\": 2, \"drawstyle\": \"default\"}, {\"data\": \"data02\", \"xindex\": 0, \"yindex\": 6, \"coordinates\": \"data\", \"id\": \"el611657963500040\", \"color\": \"#1F77B4\", \"linewidth\": 1.0, \"dasharray\": \"none\", \"alpha\": 1, \"zorder\": 2, \"drawstyle\": \"default\"}, {\"data\": \"data03\", \"xindex\": 0, \"yindex\": 5, \"coordinates\": \"data\", \"id\": \"el611657963501160\", \"color\": \"#000000\", \"linewidth\": 1.0, \"dasharray\": \"none\", \"alpha\": 1, \"zorder\": 2, \"drawstyle\": \"default\"}, {\"data\": \"data03\", \"xindex\": 0, \"yindex\": 6, \"coordinates\": \"data\", \"id\": \"el611657963502280\", \"color\": \"#000000\", \"linewidth\": 1.0, \"dasharray\": \"none\", \"alpha\": 1, \"zorder\": 2, \"drawstyle\": \"default\"}, {\"data\": \"data04\", \"xindex\": 0, \"yindex\": 3, \"coordinates\": \"data\", \"id\": \"el611657963503400\", \"color\": \"#2CA02C\", \"linewidth\": 1.0, \"dasharray\": \"none\", \"alpha\": 1, \"zorder\": 2.1, \"drawstyle\": \"default\"}], \"paths\": [], \"markers\": [{\"data\": \"data05\", \"xindex\": 0, \"yindex\": 0, \"coordinates\": \"data\", \"id\": \"el611657963668424pts\", \"facecolor\": \"none\", \"edgecolor\": \"#000000\", \"edgewidth\": 1.0, \"alpha\": 1, \"zorder\": 2, \"markerpath\": [[[0.0, 3.0], [0.7956093000000001, 3.0], [1.5587396123545605, 2.683901074764725], [2.121320343559643, 2.121320343559643], [2.683901074764725, 1.5587396123545605], [3.0, 0.7956093000000001], [3.0, 0.0], [3.0, -0.7956093000000001], [2.683901074764725, -1.5587396123545605], [2.121320343559643, -2.121320343559643], [1.5587396123545605, -2.683901074764725], [0.7956093000000001, -3.0], [0.0, -3.0], [-0.7956093000000001, -3.0], [-1.5587396123545605, -2.683901074764725], [-2.121320343559643, -2.121320343559643], [-2.683901074764725, -1.5587396123545605], [-3.0, -0.7956093000000001], [-3.0, 0.0], [-3.0, 0.7956093000000001], [-2.683901074764725, 1.5587396123545605], [-2.121320343559643, 2.121320343559643], [-1.5587396123545605, 2.683901074764725], [-0.7956093000000001, 3.0], [0.0, 3.0]], [\"M\", \"C\", \"C\", \"C\", \"C\", \"C\", \"C\", \"C\", \"C\", \"Z\"]]}], \"texts\": [], \"collections\": [], \"images\": [], \"sharex\": [], \"sharey\": []}, {\"bbox\": [0.6060344827586208, 0.125, 0.13362068965517238, 0.755], \"xlim\": [0.5, 1.5], \"ylim\": [-5.436700000000001, 173.7027], \"xdomain\": [0.5, 1.5], \"ydomain\": [-5.436700000000001, 173.7027], \"xscale\": \"linear\", \"yscale\": \"linear\", \"axes\": [{\"position\": \"bottom\", \"nticks\": 1, \"tickvalues\": [1], \"tickformat\": [\"Close\"], \"scale\": \"linear\", \"fontsize\": 10.0, \"grid\": {\"gridOn\": false}, \"visible\": true}, {\"position\": \"left\", \"nticks\": 11, \"tickvalues\": null, \"tickformat\": null, \"scale\": \"linear\", \"fontsize\": 10.0, \"grid\": {\"gridOn\": false}, \"visible\": true}], \"axesbg\": \"#FFFFFF\", \"axesbgalpha\": null, \"zoomable\": true, \"id\": \"el611657962444224\", \"lines\": [{\"data\": \"data01\", \"xindex\": 0, \"yindex\": 4, \"coordinates\": \"data\", \"id\": \"el611657963670608\", \"color\": \"#1F77B4\", \"linewidth\": 1.0, \"dasharray\": \"none\", \"alpha\": 1, \"zorder\": 2, \"drawstyle\": \"default\"}, {\"data\": \"data02\", \"xindex\": 0, \"yindex\": 7, \"coordinates\": \"data\", \"id\": \"el611657963670944\", \"color\": \"#1F77B4\", \"linewidth\": 1.0, \"dasharray\": \"none\", \"alpha\": 1, \"zorder\": 2, \"drawstyle\": \"default\"}, {\"data\": \"data02\", \"xindex\": 0, \"yindex\": 8, \"coordinates\": \"data\", \"id\": \"el611657963692720\", \"color\": \"#1F77B4\", \"linewidth\": 1.0, \"dasharray\": \"none\", \"alpha\": 1, \"zorder\": 2, \"drawstyle\": \"default\"}, {\"data\": \"data03\", \"xindex\": 0, \"yindex\": 7, \"coordinates\": \"data\", \"id\": \"el611657963693840\", \"color\": \"#000000\", \"linewidth\": 1.0, \"dasharray\": \"none\", \"alpha\": 1, \"zorder\": 2, \"drawstyle\": \"default\"}, {\"data\": \"data03\", \"xindex\": 0, \"yindex\": 8, \"coordinates\": \"data\", \"id\": \"el611657963694960\", \"color\": \"#000000\", \"linewidth\": 1.0, \"dasharray\": \"none\", \"alpha\": 1, \"zorder\": 2, \"drawstyle\": \"default\"}, {\"data\": \"data04\", \"xindex\": 0, \"yindex\": 4, \"coordinates\": \"data\", \"id\": \"el611657963696080\", \"color\": \"#2CA02C\", \"linewidth\": 1.0, \"dasharray\": \"none\", \"alpha\": 1, \"zorder\": 2.1, \"drawstyle\": \"default\"}], \"paths\": [], \"markers\": [{\"data\": \"data05\", \"xindex\": 0, \"yindex\": 0, \"coordinates\": \"data\", \"id\": \"el611657963738224pts\", \"facecolor\": \"none\", \"edgecolor\": \"#000000\", \"edgewidth\": 1.0, \"alpha\": 1, \"zorder\": 2, \"markerpath\": [[[0.0, 3.0], [0.7956093000000001, 3.0], [1.5587396123545605, 2.683901074764725], [2.121320343559643, 2.121320343559643], [2.683901074764725, 1.5587396123545605], [3.0, 0.7956093000000001], [3.0, 0.0], [3.0, -0.7956093000000001], [2.683901074764725, -1.5587396123545605], [2.121320343559643, -2.121320343559643], [1.5587396123545605, -2.683901074764725], [0.7956093000000001, -3.0], [0.0, -3.0], [-0.7956093000000001, -3.0], [-1.5587396123545605, -2.683901074764725], [-2.121320343559643, -2.121320343559643], [-2.683901074764725, -1.5587396123545605], [-3.0, -0.7956093000000001], [-3.0, 0.0], [-3.0, 0.7956093000000001], [-2.683901074764725, 1.5587396123545605], [-2.121320343559643, 2.121320343559643], [-1.5587396123545605, 2.683901074764725], [-0.7956093000000001, 3.0], [0.0, 3.0]], [\"M\", \"C\", \"C\", \"C\", \"C\", \"C\", \"C\", \"C\", \"C\", \"Z\"]]}], \"texts\": [], \"collections\": [], \"images\": [], \"sharex\": [], \"sharey\": []}, {\"bbox\": [0.7663793103448276, 0.125, 0.1336206896551725, 0.755], \"xlim\": [0.5, 1.5], \"ylim\": [-98900.90000000001, 2233976.9], \"xdomain\": [0.5, 1.5], \"ydomain\": [-98900.90000000001, 2233976.9], \"xscale\": \"linear\", \"yscale\": \"linear\", \"axes\": [{\"position\": \"bottom\", \"nticks\": 1, \"tickvalues\": [1], \"tickformat\": [\"Volume\"], \"scale\": \"linear\", \"fontsize\": 10.0, \"grid\": {\"gridOn\": false}, \"visible\": true}, {\"position\": \"left\", \"nticks\": 7, \"tickvalues\": null, \"tickformat\": null, \"scale\": \"linear\", \"fontsize\": 10.0, \"grid\": {\"gridOn\": false}, \"visible\": true}], \"axesbg\": \"#FFFFFF\", \"axesbgalpha\": null, \"zoomable\": true, \"id\": \"el611657962686000\", \"lines\": [{\"data\": \"data01\", \"xindex\": 0, \"yindex\": 5, \"coordinates\": \"data\", \"id\": \"el611657963740408\", \"color\": \"#1F77B4\", \"linewidth\": 1.0, \"dasharray\": \"none\", \"alpha\": 1, \"zorder\": 2, \"drawstyle\": \"default\"}, {\"data\": \"data02\", \"xindex\": 0, \"yindex\": 9, \"coordinates\": \"data\", \"id\": \"el611657963740744\", \"color\": \"#1F77B4\", \"linewidth\": 1.0, \"dasharray\": \"none\", \"alpha\": 1, \"zorder\": 2, \"drawstyle\": \"default\"}, {\"data\": \"data02\", \"xindex\": 0, \"yindex\": 10, \"coordinates\": \"data\", \"id\": \"el611657963774808\", \"color\": \"#1F77B4\", \"linewidth\": 1.0, \"dasharray\": \"none\", \"alpha\": 1, \"zorder\": 2, \"drawstyle\": \"default\"}, {\"data\": \"data03\", \"xindex\": 0, \"yindex\": 9, \"coordinates\": \"data\", \"id\": \"el611657963775928\", \"color\": \"#000000\", \"linewidth\": 1.0, \"dasharray\": \"none\", \"alpha\": 1, \"zorder\": 2, \"drawstyle\": \"default\"}, {\"data\": \"data03\", \"xindex\": 0, \"yindex\": 10, \"coordinates\": \"data\", \"id\": \"el611657963777048\", \"color\": \"#000000\", \"linewidth\": 1.0, \"dasharray\": \"none\", \"alpha\": 1, \"zorder\": 2, \"drawstyle\": \"default\"}, {\"data\": \"data04\", \"xindex\": 0, \"yindex\": 5, \"coordinates\": \"data\", \"id\": \"el611657963798712\", \"color\": \"#2CA02C\", \"linewidth\": 1.0, \"dasharray\": \"none\", \"alpha\": 1, \"zorder\": 2.1, \"drawstyle\": \"default\"}], \"paths\": [], \"markers\": [{\"data\": \"data06\", \"xindex\": 0, \"yindex\": 1, \"coordinates\": \"data\", \"id\": \"el611657963799832pts\", \"facecolor\": \"none\", \"edgecolor\": \"#000000\", \"edgewidth\": 1.0, \"alpha\": 1, \"zorder\": 2, \"markerpath\": [[[0.0, 3.0], [0.7956093000000001, 3.0], [1.5587396123545605, 2.683901074764725], [2.121320343559643, 2.121320343559643], [2.683901074764725, 1.5587396123545605], [3.0, 0.7956093000000001], [3.0, 0.0], [3.0, -0.7956093000000001], [2.683901074764725, -1.5587396123545605], [2.121320343559643, -2.121320343559643], [1.5587396123545605, -2.683901074764725], [0.7956093000000001, -3.0], [0.0, -3.0], [-0.7956093000000001, -3.0], [-1.5587396123545605, -2.683901074764725], [-2.121320343559643, -2.121320343559643], [-2.683901074764725, -1.5587396123545605], [-3.0, -0.7956093000000001], [-3.0, 0.0], [-3.0, 0.7956093000000001], [-2.683901074764725, 1.5587396123545605], [-2.121320343559643, 2.121320343559643], [-1.5587396123545605, 2.683901074764725], [-0.7956093000000001, 3.0], [0.0, 3.0]], [\"M\", \"C\", \"C\", \"C\", \"C\", \"C\", \"C\", \"C\", \"C\", \"Z\"]]}], \"texts\": [], \"collections\": [], \"images\": [], \"sharex\": [], \"sharey\": []}], \"data\": {\"data01\": [[0.925, 26.695999999999998, 27.21, 26.206, 26.695999999999998, 33475.0], [1.075, 26.695999999999998, 27.21, 26.206, 26.695999999999998, 33475.0], [1.075, 87.39, 88.58, 85.94, 87.315, 88580.0], [0.925, 87.39, 88.58, 85.94, 87.315, 88580.0], [0.925, 26.695999999999998, 27.21, 26.206, 26.695999999999998, 33475.0]], \"data02\": [[1.0, 26.695999999999998, 87.39, 27.21, 88.58, 26.206, 85.94, 26.695999999999998, 87.315, 33475.0, 88580.0], [1.0, 2.65, 165.74, 2.85, 167.5, 2.55, 163.28, 2.7060000000000004, 165.56, 7139.0, 171080.0]], \"data03\": [[0.9625, 2.65, 165.74, 2.85, 167.5, 2.55, 163.28, 2.7060000000000004, 165.56, 7139.0, 171080.0], [1.0375, 2.65, 165.74, 2.85, 167.5, 2.55, 163.28, 2.7060000000000004, 165.56, 7139.0, 171080.0]], \"data04\": [[0.925, 55.015, 56.285, 53.6, 54.975, 51710.0], [1.075, 55.015, 56.285, 53.6, 54.975, 51710.0]], \"data05\": [], \"data06\": [[1.0, 229663.0], [1.0, 312669.0], [1.0, 305384.0], [1.0, 272763.0], [1.0, 258085.0], [1.0, 217367.0], [1.0, 192604.0], [1.0, 342619.0], [1.0, 193475.0], [1.0, 280896.0], [1.0, 220397.0], [1.0, 304344.0], [1.0, 205804.0], [1.0, 522486.0], [1.0, 184842.0], [1.0, 218614.0], [1.0, 238550.0], [1.0, 219923.0], [1.0, 854786.0], [1.0, 175213.0], [1.0, 193439.0], [1.0, 215070.0], [1.0, 208672.0], [1.0, 181479.0], [1.0, 314742.0], [1.0, 180106.0], [1.0, 174861.0], [1.0, 316589.0], [1.0, 244940.0], [1.0, 185757.0], [1.0, 201790.0], [1.0, 197572.0], [1.0, 816160.0], [1.0, 249004.0], [1.0, 216297.0], [1.0, 191345.0], [1.0, 249279.0], [1.0, 194379.0], [1.0, 173525.0], [1.0, 187285.0], [1.0, 568976.0], [1.0, 200758.0], [1.0, 289367.0], [1.0, 175089.0], [1.0, 180979.0], [1.0, 218559.0], [1.0, 234911.0], [1.0, 305333.0], [1.0, 308882.0], [1.0, 185373.0], [1.0, 173871.0], [1.0, 178671.0], [1.0, 197772.0], [1.0, 191226.0], [1.0, 219410.0], [1.0, 224048.0], [1.0, 210840.0], [1.0, 175188.0], [1.0, 221821.0], [1.0, 191620.0], [1.0, 285477.0], [1.0, 248205.0], [1.0, 294764.0], [1.0, 189191.0], [1.0, 231615.0], [1.0, 220877.0], [1.0, 334417.0], [1.0, 299879.0], [1.0, 174450.0], [1.0, 253038.0], [1.0, 212826.0], [1.0, 281324.0], [1.0, 263045.0], [1.0, 372250.0], [1.0, 273287.0], [1.0, 251764.0], [1.0, 274895.0], [1.0, 266155.0], [1.0, 275608.0], [1.0, 246922.0], [1.0, 245328.0], [1.0, 359505.0], [1.0, 176741.0], [1.0, 178672.0], [1.0, 212338.0], [1.0, 215835.0], [1.0, 212128.0], [1.0, 204757.0], [1.0, 245550.0], [1.0, 189641.0], [1.0, 318571.0], [1.0, 268714.0], [1.0, 435328.0], [1.0, 232079.0], [1.0, 191736.0], [1.0, 204143.0], [1.0, 202358.0], [1.0, 287748.0], [1.0, 373661.0], [1.0, 216513.0], [1.0, 211911.0], [1.0, 221317.0], [1.0, 412456.0], [1.0, 213033.0], [1.0, 189606.0], [1.0, 184587.0], [1.0, 206017.0], [1.0, 620117.0], [1.0, 562190.0], [1.0, 370096.0], [1.0, 371868.0], [1.0, 302004.0], [1.0, 186537.0], [1.0, 173820.0], [1.0, 171331.0], [1.0, 177060.0], [1.0, 771934.0], [1.0, 195920.0], [1.0, 306340.0], [1.0, 256300.0], [1.0, 200460.0], [1.0, 219300.0], [1.0, 192140.0], [1.0, 231753.0], [1.0, 177501.0], [1.0, 382299.0], [1.0, 375832.0], [1.0, 234433.0], [1.0, 195247.0], [1.0, 324238.0], [1.0, 304747.0], [1.0, 183611.0], [1.0, 182401.0], [1.0, 533132.0], [1.0, 282562.0], [1.0, 989736.0], [1.0, 186691.0], [1.0, 202517.0], [1.0, 407313.0], [1.0, 249244.0], [1.0, 183090.0], [1.0, 286737.0], [1.0, 420484.0], [1.0, 423123.0], [1.0, 287309.0], [1.0, 483784.0], [1.0, 1566145.0], [1.0, 872522.0], [1.0, 253638.0], [1.0, 238172.0], [1.0, 345594.0], [1.0, 200282.0], [1.0, 182934.0], [1.0, 210615.0], [1.0, 179341.0], [1.0, 246579.0], [1.0, 331302.0], [1.0, 239752.0], [1.0, 246408.0], [1.0, 663772.0], [1.0, 746482.0], [1.0, 456146.0], [1.0, 394395.0], [1.0, 350208.0], [1.0, 245641.0], [1.0, 181896.0], [1.0, 279519.0], [1.0, 326028.0], [1.0, 182067.0], [1.0, 1761585.0], [1.0, 561428.0], [1.0, 402405.0], [1.0, 180185.0], [1.0, 503508.0], [1.0, 273962.0], [1.0, 463573.0], [1.0, 209566.0], [1.0, 319471.0], [1.0, 464392.0], [1.0, 479519.0], [1.0, 598483.0], [1.0, 503151.0], [1.0, 274378.0], [1.0, 234781.0], [1.0, 247563.0], [1.0, 597174.0], [1.0, 824182.0], [1.0, 601029.0], [1.0, 624374.0], [1.0, 363476.0], [1.0, 540426.0], [1.0, 420480.0], [1.0, 543869.0], [1.0, 303582.0], [1.0, 392072.0], [1.0, 1045873.0], [1.0, 768281.0], [1.0, 294616.0], [1.0, 254411.0], [1.0, 369436.0], [1.0, 389813.0], [1.0, 537018.0], [1.0, 1592794.0], [1.0, 2127937.0], [1.0, 775589.0], [1.0, 424958.0], [1.0, 542584.0], [1.0, 379018.0], [1.0, 236349.0], [1.0, 1540971.0], [1.0, 978687.0], [1.0, 1271092.0], [1.0, 502674.0], [1.0, 593258.0], [1.0, 290587.0], [1.0, 397477.0], [1.0, 398935.0], [1.0, 500152.0], [1.0, 643158.0], [1.0, 783484.0], [1.0, 894673.0], [1.0, 475925.0], [1.0, 587875.0], [1.0, 292734.0], [1.0, 278726.0], [1.0, 314144.0], [1.0, 381049.0], [1.0, 390733.0], [1.0, 372341.0], [1.0, 308368.0], [1.0, 443455.0], [1.0, 360653.0], [1.0, 336090.0], [1.0, 362576.0], [1.0, 962686.0], [1.0, 424293.0], [1.0, 316057.0], [1.0, 411026.0], [1.0, 649203.0], [1.0, 561052.0], [1.0, 570653.0], [1.0, 221614.0], [1.0, 336548.0], [1.0, 361051.0], [1.0, 547920.0], [1.0, 751020.0], [1.0, 424053.0], [1.0, 303983.0], [1.0, 446689.0], [1.0, 266385.0], [1.0, 215086.0], [1.0, 299084.0], [1.0, 181173.0], [1.0, 343336.0], [1.0, 372356.0], [1.0, 257785.0], [1.0, 259387.0], [1.0, 277072.0], [1.0, 312691.0], [1.0, 426371.0], [1.0, 257403.0], [1.0, 370125.0], [1.0, 187959.0], [1.0, 331315.0], [1.0, 198918.0], [1.0, 294719.0], [1.0, 315198.0], [1.0, 200916.0], [1.0, 221211.0], [1.0, 289687.0], [1.0, 177705.0], [1.0, 289237.0], [1.0, 254104.0], [1.0, 228444.0], [1.0, 273240.0], [1.0, 360036.0], [1.0, 220315.0], [1.0, 247815.0], [1.0, 200669.0], [1.0, 233257.0], [1.0, 324925.0], [1.0, 386029.0], [1.0, 651095.0], [1.0, 331713.0], [1.0, 244081.0], [1.0, 383358.0], [1.0, 233363.0], [1.0, 662087.0], [1.0, 346871.0], [1.0, 320184.0], [1.0, 231197.0], [1.0, 314836.0], [1.0, 195351.0], [1.0, 291189.0], [1.0, 185714.0], [1.0, 189161.0], [1.0, 407708.0], [1.0, 216971.0], [1.0, 181150.0], [1.0, 226283.0], [1.0, 357499.0], [1.0, 255838.0], [1.0, 278627.0], [1.0, 214761.0], [1.0, 240697.0], [1.0, 535831.0], [1.0, 231603.0], [1.0, 444325.0], [1.0, 226341.0], [1.0, 251462.0], [1.0, 223225.0], [1.0, 196565.0], [1.0, 256757.0], [1.0, 257417.0], [1.0, 378981.0], [1.0, 565788.0], [1.0, 206210.0], [1.0, 285029.0]]}, \"id\": \"el611657959567488\", \"plugins\": [{\"type\": \"reset\"}, {\"type\": \"zoom\", \"button\": true, \"enabled\": false}, {\"type\": \"boxzoom\", \"button\": true, \"enabled\": false}]});\n",
       "      });\n",
       "    });\n",
       "}else{\n",
       "    // require.js not available: dynamically load d3 & mpld3\n",
       "    mpld3_load_lib(\"https://mpld3.github.io/js/d3.v3.min.js\", function(){\n",
       "         mpld3_load_lib(\"https://mpld3.github.io/js/mpld3.v0.3.js\", function(){\n",
       "                 \n",
       "                 mpld3.draw_figure(\"fig_el6116579595674885913846833\", {\"width\": 432.0, \"height\": 288.0, \"axes\": [{\"bbox\": [0.125, 0.125, 0.13362068965517243, 0.755], \"xlim\": [0.5, 1.5], \"ylim\": [-5.5045, 173.89450000000002], \"xdomain\": [0.5, 1.5], \"ydomain\": [-5.5045, 173.89450000000002], \"xscale\": \"linear\", \"yscale\": \"linear\", \"axes\": [{\"position\": \"bottom\", \"nticks\": 1, \"tickvalues\": [1], \"tickformat\": [\"Open\"], \"scale\": \"linear\", \"fontsize\": 10.0, \"grid\": {\"gridOn\": false}, \"visible\": true}, {\"position\": \"left\", \"nticks\": 11, \"tickvalues\": null, \"tickformat\": null, \"scale\": \"linear\", \"fontsize\": 10.0, \"grid\": {\"gridOn\": false}, \"visible\": true}], \"axesbg\": \"#FFFFFF\", \"axesbgalpha\": null, \"zoomable\": true, \"id\": \"el611657959181616\", \"lines\": [{\"data\": \"data01\", \"xindex\": 0, \"yindex\": 1, \"coordinates\": \"data\", \"id\": \"el611657962920424\", \"color\": \"#1F77B4\", \"linewidth\": 1.0, \"dasharray\": \"none\", \"alpha\": 1, \"zorder\": 2, \"drawstyle\": \"default\"}, {\"data\": \"data02\", \"xindex\": 0, \"yindex\": 1, \"coordinates\": \"data\", \"id\": \"el611657962920816\", \"color\": \"#1F77B4\", \"linewidth\": 1.0, \"dasharray\": \"none\", \"alpha\": 1, \"zorder\": 2, \"drawstyle\": \"default\"}, {\"data\": \"data02\", \"xindex\": 0, \"yindex\": 2, \"coordinates\": \"data\", \"id\": \"el611657963323464\", \"color\": \"#1F77B4\", \"linewidth\": 1.0, \"dasharray\": \"none\", \"alpha\": 1, \"zorder\": 2, \"drawstyle\": \"default\"}, {\"data\": \"data03\", \"xindex\": 0, \"yindex\": 1, \"coordinates\": \"data\", \"id\": \"el611657963324584\", \"color\": \"#000000\", \"linewidth\": 1.0, \"dasharray\": \"none\", \"alpha\": 1, \"zorder\": 2, \"drawstyle\": \"default\"}, {\"data\": \"data03\", \"xindex\": 0, \"yindex\": 2, \"coordinates\": \"data\", \"id\": \"el611657963325704\", \"color\": \"#000000\", \"linewidth\": 1.0, \"dasharray\": \"none\", \"alpha\": 1, \"zorder\": 2, \"drawstyle\": \"default\"}, {\"data\": \"data04\", \"xindex\": 0, \"yindex\": 1, \"coordinates\": \"data\", \"id\": \"el611657963326824\", \"color\": \"#2CA02C\", \"linewidth\": 1.0, \"dasharray\": \"none\", \"alpha\": 1, \"zorder\": 2.1, \"drawstyle\": \"default\"}], \"paths\": [], \"markers\": [{\"data\": \"data05\", \"xindex\": 0, \"yindex\": 1, \"coordinates\": \"data\", \"id\": \"el611657963348488pts\", \"facecolor\": \"none\", \"edgecolor\": \"#000000\", \"edgewidth\": 1.0, \"alpha\": 1, \"zorder\": 2, \"markerpath\": [[[0.0, 3.0], [0.7956093000000001, 3.0], [1.5587396123545605, 2.683901074764725], [2.121320343559643, 2.121320343559643], [2.683901074764725, 1.5587396123545605], [3.0, 0.7956093000000001], [3.0, 0.0], [3.0, -0.7956093000000001], [2.683901074764725, -1.5587396123545605], [2.121320343559643, -2.121320343559643], [1.5587396123545605, -2.683901074764725], [0.7956093000000001, -3.0], [0.0, -3.0], [-0.7956093000000001, -3.0], [-1.5587396123545605, -2.683901074764725], [-2.121320343559643, -2.121320343559643], [-2.683901074764725, -1.5587396123545605], [-3.0, -0.7956093000000001], [-3.0, 0.0], [-3.0, 0.7956093000000001], [-2.683901074764725, 1.5587396123545605], [-2.121320343559643, 2.121320343559643], [-1.5587396123545605, 2.683901074764725], [-0.7956093000000001, 3.0], [0.0, 3.0]], [\"M\", \"C\", \"C\", \"C\", \"C\", \"C\", \"C\", \"C\", \"C\", \"Z\"]]}], \"texts\": [], \"collections\": [], \"images\": [], \"sharex\": [], \"sharey\": []}, {\"bbox\": [0.28534482758620694, 0.125, 0.13362068965517238, 0.755], \"xlim\": [0.5, 1.5], \"ylim\": [-5.3825, 175.7325], \"xdomain\": [0.5, 1.5], \"ydomain\": [-5.3825, 175.7325], \"xscale\": \"linear\", \"yscale\": \"linear\", \"axes\": [{\"position\": \"bottom\", \"nticks\": 1, \"tickvalues\": [1], \"tickformat\": [\"High\"], \"scale\": \"linear\", \"fontsize\": 10.0, \"grid\": {\"gridOn\": false}, \"visible\": true}, {\"position\": \"left\", \"nticks\": 10, \"tickvalues\": null, \"tickformat\": null, \"scale\": \"linear\", \"fontsize\": 10.0, \"grid\": {\"gridOn\": false}, \"visible\": true}], \"axesbg\": \"#FFFFFF\", \"axesbgalpha\": null, \"zoomable\": true, \"id\": \"el611657962000848\", \"lines\": [{\"data\": \"data01\", \"xindex\": 0, \"yindex\": 2, \"coordinates\": \"data\", \"id\": \"el611657963350784\", \"color\": \"#1F77B4\", \"linewidth\": 1.0, \"dasharray\": \"none\", \"alpha\": 1, \"zorder\": 2, \"drawstyle\": \"default\"}, {\"data\": \"data02\", \"xindex\": 0, \"yindex\": 3, \"coordinates\": \"data\", \"id\": \"el611657963351120\", \"color\": \"#1F77B4\", \"linewidth\": 1.0, \"dasharray\": \"none\", \"alpha\": 1, \"zorder\": 2, \"drawstyle\": \"default\"}, {\"data\": \"data02\", \"xindex\": 0, \"yindex\": 4, \"coordinates\": \"data\", \"id\": \"el611657963438432\", \"color\": \"#1F77B4\", \"linewidth\": 1.0, \"dasharray\": \"none\", \"alpha\": 1, \"zorder\": 2, \"drawstyle\": \"default\"}, {\"data\": \"data03\", \"xindex\": 0, \"yindex\": 3, \"coordinates\": \"data\", \"id\": \"el611657963439552\", \"color\": \"#000000\", \"linewidth\": 1.0, \"dasharray\": \"none\", \"alpha\": 1, \"zorder\": 2, \"drawstyle\": \"default\"}, {\"data\": \"data03\", \"xindex\": 0, \"yindex\": 4, \"coordinates\": \"data\", \"id\": \"el611657963440672\", \"color\": \"#000000\", \"linewidth\": 1.0, \"dasharray\": \"none\", \"alpha\": 1, \"zorder\": 2, \"drawstyle\": \"default\"}, {\"data\": \"data04\", \"xindex\": 0, \"yindex\": 2, \"coordinates\": \"data\", \"id\": \"el611657963441792\", \"color\": \"#2CA02C\", \"linewidth\": 1.0, \"dasharray\": \"none\", \"alpha\": 1, \"zorder\": 2.1, \"drawstyle\": \"default\"}], \"paths\": [], \"markers\": [{\"data\": \"data05\", \"xindex\": 0, \"yindex\": 0, \"coordinates\": \"data\", \"id\": \"el611657963467552pts\", \"facecolor\": \"none\", \"edgecolor\": \"#000000\", \"edgewidth\": 1.0, \"alpha\": 1, \"zorder\": 2, \"markerpath\": [[[0.0, 3.0], [0.7956093000000001, 3.0], [1.5587396123545605, 2.683901074764725], [2.121320343559643, 2.121320343559643], [2.683901074764725, 1.5587396123545605], [3.0, 0.7956093000000001], [3.0, 0.0], [3.0, -0.7956093000000001], [2.683901074764725, -1.5587396123545605], [2.121320343559643, -2.121320343559643], [1.5587396123545605, -2.683901074764725], [0.7956093000000001, -3.0], [0.0, -3.0], [-0.7956093000000001, -3.0], [-1.5587396123545605, -2.683901074764725], [-2.121320343559643, -2.121320343559643], [-2.683901074764725, -1.5587396123545605], [-3.0, -0.7956093000000001], [-3.0, 0.0], [-3.0, 0.7956093000000001], [-2.683901074764725, 1.5587396123545605], [-2.121320343559643, 2.121320343559643], [-1.5587396123545605, 2.683901074764725], [-0.7956093000000001, 3.0], [0.0, 3.0]], [\"M\", \"C\", \"C\", \"C\", \"C\", \"C\", \"C\", \"C\", \"C\", \"Z\"]]}], \"texts\": [], \"collections\": [], \"images\": [], \"sharex\": [], \"sharey\": []}, {\"bbox\": [0.4456896551724138, 0.125, 0.13362068965517243, 0.755], \"xlim\": [0.5, 1.5], \"ylim\": [-5.4865, 171.3165], \"xdomain\": [0.5, 1.5], \"ydomain\": [-5.4865, 171.3165], \"xscale\": \"linear\", \"yscale\": \"linear\", \"axes\": [{\"position\": \"bottom\", \"nticks\": 1, \"tickvalues\": [1], \"tickformat\": [\"Low\"], \"scale\": \"linear\", \"fontsize\": 10.0, \"grid\": {\"gridOn\": false}, \"visible\": true}, {\"position\": \"left\", \"nticks\": 11, \"tickvalues\": null, \"tickformat\": null, \"scale\": \"linear\", \"fontsize\": 10.0, \"grid\": {\"gridOn\": false}, \"visible\": true}], \"axesbg\": \"#FFFFFF\", \"axesbgalpha\": null, \"zoomable\": true, \"id\": \"el611657962250704\", \"lines\": [{\"data\": \"data01\", \"xindex\": 0, \"yindex\": 3, \"coordinates\": \"data\", \"id\": \"el611657963469736\", \"color\": \"#1F77B4\", \"linewidth\": 1.0, \"dasharray\": \"none\", \"alpha\": 1, \"zorder\": 2, \"drawstyle\": \"default\"}, {\"data\": \"data02\", \"xindex\": 0, \"yindex\": 5, \"coordinates\": \"data\", \"id\": \"el611657963470072\", \"color\": \"#1F77B4\", \"linewidth\": 1.0, \"dasharray\": \"none\", \"alpha\": 1, \"zorder\": 2, \"drawstyle\": \"default\"}, {\"data\": \"data02\", \"xindex\": 0, \"yindex\": 6, \"coordinates\": \"data\", \"id\": \"el611657963500040\", \"color\": \"#1F77B4\", \"linewidth\": 1.0, \"dasharray\": \"none\", \"alpha\": 1, \"zorder\": 2, \"drawstyle\": \"default\"}, {\"data\": \"data03\", \"xindex\": 0, \"yindex\": 5, \"coordinates\": \"data\", \"id\": \"el611657963501160\", \"color\": \"#000000\", \"linewidth\": 1.0, \"dasharray\": \"none\", \"alpha\": 1, \"zorder\": 2, \"drawstyle\": \"default\"}, {\"data\": \"data03\", \"xindex\": 0, \"yindex\": 6, \"coordinates\": \"data\", \"id\": \"el611657963502280\", \"color\": \"#000000\", \"linewidth\": 1.0, \"dasharray\": \"none\", \"alpha\": 1, \"zorder\": 2, \"drawstyle\": \"default\"}, {\"data\": \"data04\", \"xindex\": 0, \"yindex\": 3, \"coordinates\": \"data\", \"id\": \"el611657963503400\", \"color\": \"#2CA02C\", \"linewidth\": 1.0, \"dasharray\": \"none\", \"alpha\": 1, \"zorder\": 2.1, \"drawstyle\": \"default\"}], \"paths\": [], \"markers\": [{\"data\": \"data05\", \"xindex\": 0, \"yindex\": 0, \"coordinates\": \"data\", \"id\": \"el611657963668424pts\", \"facecolor\": \"none\", \"edgecolor\": \"#000000\", \"edgewidth\": 1.0, \"alpha\": 1, \"zorder\": 2, \"markerpath\": [[[0.0, 3.0], [0.7956093000000001, 3.0], [1.5587396123545605, 2.683901074764725], [2.121320343559643, 2.121320343559643], [2.683901074764725, 1.5587396123545605], [3.0, 0.7956093000000001], [3.0, 0.0], [3.0, -0.7956093000000001], [2.683901074764725, -1.5587396123545605], [2.121320343559643, -2.121320343559643], [1.5587396123545605, -2.683901074764725], [0.7956093000000001, -3.0], [0.0, -3.0], [-0.7956093000000001, -3.0], [-1.5587396123545605, -2.683901074764725], [-2.121320343559643, -2.121320343559643], [-2.683901074764725, -1.5587396123545605], [-3.0, -0.7956093000000001], [-3.0, 0.0], [-3.0, 0.7956093000000001], [-2.683901074764725, 1.5587396123545605], [-2.121320343559643, 2.121320343559643], [-1.5587396123545605, 2.683901074764725], [-0.7956093000000001, 3.0], [0.0, 3.0]], [\"M\", \"C\", \"C\", \"C\", \"C\", \"C\", \"C\", \"C\", \"C\", \"Z\"]]}], \"texts\": [], \"collections\": [], \"images\": [], \"sharex\": [], \"sharey\": []}, {\"bbox\": [0.6060344827586208, 0.125, 0.13362068965517238, 0.755], \"xlim\": [0.5, 1.5], \"ylim\": [-5.436700000000001, 173.7027], \"xdomain\": [0.5, 1.5], \"ydomain\": [-5.436700000000001, 173.7027], \"xscale\": \"linear\", \"yscale\": \"linear\", \"axes\": [{\"position\": \"bottom\", \"nticks\": 1, \"tickvalues\": [1], \"tickformat\": [\"Close\"], \"scale\": \"linear\", \"fontsize\": 10.0, \"grid\": {\"gridOn\": false}, \"visible\": true}, {\"position\": \"left\", \"nticks\": 11, \"tickvalues\": null, \"tickformat\": null, \"scale\": \"linear\", \"fontsize\": 10.0, \"grid\": {\"gridOn\": false}, \"visible\": true}], \"axesbg\": \"#FFFFFF\", \"axesbgalpha\": null, \"zoomable\": true, \"id\": \"el611657962444224\", \"lines\": [{\"data\": \"data01\", \"xindex\": 0, \"yindex\": 4, \"coordinates\": \"data\", \"id\": \"el611657963670608\", \"color\": \"#1F77B4\", \"linewidth\": 1.0, \"dasharray\": \"none\", \"alpha\": 1, \"zorder\": 2, \"drawstyle\": \"default\"}, {\"data\": \"data02\", \"xindex\": 0, \"yindex\": 7, \"coordinates\": \"data\", \"id\": \"el611657963670944\", \"color\": \"#1F77B4\", \"linewidth\": 1.0, \"dasharray\": \"none\", \"alpha\": 1, \"zorder\": 2, \"drawstyle\": \"default\"}, {\"data\": \"data02\", \"xindex\": 0, \"yindex\": 8, \"coordinates\": \"data\", \"id\": \"el611657963692720\", \"color\": \"#1F77B4\", \"linewidth\": 1.0, \"dasharray\": \"none\", \"alpha\": 1, \"zorder\": 2, \"drawstyle\": \"default\"}, {\"data\": \"data03\", \"xindex\": 0, \"yindex\": 7, \"coordinates\": \"data\", \"id\": \"el611657963693840\", \"color\": \"#000000\", \"linewidth\": 1.0, \"dasharray\": \"none\", \"alpha\": 1, \"zorder\": 2, \"drawstyle\": \"default\"}, {\"data\": \"data03\", \"xindex\": 0, \"yindex\": 8, \"coordinates\": \"data\", \"id\": \"el611657963694960\", \"color\": \"#000000\", \"linewidth\": 1.0, \"dasharray\": \"none\", \"alpha\": 1, \"zorder\": 2, \"drawstyle\": \"default\"}, {\"data\": \"data04\", \"xindex\": 0, \"yindex\": 4, \"coordinates\": \"data\", \"id\": \"el611657963696080\", \"color\": \"#2CA02C\", \"linewidth\": 1.0, \"dasharray\": \"none\", \"alpha\": 1, \"zorder\": 2.1, \"drawstyle\": \"default\"}], \"paths\": [], \"markers\": [{\"data\": \"data05\", \"xindex\": 0, \"yindex\": 0, \"coordinates\": \"data\", \"id\": \"el611657963738224pts\", \"facecolor\": \"none\", \"edgecolor\": \"#000000\", \"edgewidth\": 1.0, \"alpha\": 1, \"zorder\": 2, \"markerpath\": [[[0.0, 3.0], [0.7956093000000001, 3.0], [1.5587396123545605, 2.683901074764725], [2.121320343559643, 2.121320343559643], [2.683901074764725, 1.5587396123545605], [3.0, 0.7956093000000001], [3.0, 0.0], [3.0, -0.7956093000000001], [2.683901074764725, -1.5587396123545605], [2.121320343559643, -2.121320343559643], [1.5587396123545605, -2.683901074764725], [0.7956093000000001, -3.0], [0.0, -3.0], [-0.7956093000000001, -3.0], [-1.5587396123545605, -2.683901074764725], [-2.121320343559643, -2.121320343559643], [-2.683901074764725, -1.5587396123545605], [-3.0, -0.7956093000000001], [-3.0, 0.0], [-3.0, 0.7956093000000001], [-2.683901074764725, 1.5587396123545605], [-2.121320343559643, 2.121320343559643], [-1.5587396123545605, 2.683901074764725], [-0.7956093000000001, 3.0], [0.0, 3.0]], [\"M\", \"C\", \"C\", \"C\", \"C\", \"C\", \"C\", \"C\", \"C\", \"Z\"]]}], \"texts\": [], \"collections\": [], \"images\": [], \"sharex\": [], \"sharey\": []}, {\"bbox\": [0.7663793103448276, 0.125, 0.1336206896551725, 0.755], \"xlim\": [0.5, 1.5], \"ylim\": [-98900.90000000001, 2233976.9], \"xdomain\": [0.5, 1.5], \"ydomain\": [-98900.90000000001, 2233976.9], \"xscale\": \"linear\", \"yscale\": \"linear\", \"axes\": [{\"position\": \"bottom\", \"nticks\": 1, \"tickvalues\": [1], \"tickformat\": [\"Volume\"], \"scale\": \"linear\", \"fontsize\": 10.0, \"grid\": {\"gridOn\": false}, \"visible\": true}, {\"position\": \"left\", \"nticks\": 7, \"tickvalues\": null, \"tickformat\": null, \"scale\": \"linear\", \"fontsize\": 10.0, \"grid\": {\"gridOn\": false}, \"visible\": true}], \"axesbg\": \"#FFFFFF\", \"axesbgalpha\": null, \"zoomable\": true, \"id\": \"el611657962686000\", \"lines\": [{\"data\": \"data01\", \"xindex\": 0, \"yindex\": 5, \"coordinates\": \"data\", \"id\": \"el611657963740408\", \"color\": \"#1F77B4\", \"linewidth\": 1.0, \"dasharray\": \"none\", \"alpha\": 1, \"zorder\": 2, \"drawstyle\": \"default\"}, {\"data\": \"data02\", \"xindex\": 0, \"yindex\": 9, \"coordinates\": \"data\", \"id\": \"el611657963740744\", \"color\": \"#1F77B4\", \"linewidth\": 1.0, \"dasharray\": \"none\", \"alpha\": 1, \"zorder\": 2, \"drawstyle\": \"default\"}, {\"data\": \"data02\", \"xindex\": 0, \"yindex\": 10, \"coordinates\": \"data\", \"id\": \"el611657963774808\", \"color\": \"#1F77B4\", \"linewidth\": 1.0, \"dasharray\": \"none\", \"alpha\": 1, \"zorder\": 2, \"drawstyle\": \"default\"}, {\"data\": \"data03\", \"xindex\": 0, \"yindex\": 9, \"coordinates\": \"data\", \"id\": \"el611657963775928\", \"color\": \"#000000\", \"linewidth\": 1.0, \"dasharray\": \"none\", \"alpha\": 1, \"zorder\": 2, \"drawstyle\": \"default\"}, {\"data\": \"data03\", \"xindex\": 0, \"yindex\": 10, \"coordinates\": \"data\", \"id\": \"el611657963777048\", \"color\": \"#000000\", \"linewidth\": 1.0, \"dasharray\": \"none\", \"alpha\": 1, \"zorder\": 2, \"drawstyle\": \"default\"}, {\"data\": \"data04\", \"xindex\": 0, \"yindex\": 5, \"coordinates\": \"data\", \"id\": \"el611657963798712\", \"color\": \"#2CA02C\", \"linewidth\": 1.0, \"dasharray\": \"none\", \"alpha\": 1, \"zorder\": 2.1, \"drawstyle\": \"default\"}], \"paths\": [], \"markers\": [{\"data\": \"data06\", \"xindex\": 0, \"yindex\": 1, \"coordinates\": \"data\", \"id\": \"el611657963799832pts\", \"facecolor\": \"none\", \"edgecolor\": \"#000000\", \"edgewidth\": 1.0, \"alpha\": 1, \"zorder\": 2, \"markerpath\": [[[0.0, 3.0], [0.7956093000000001, 3.0], [1.5587396123545605, 2.683901074764725], [2.121320343559643, 2.121320343559643], [2.683901074764725, 1.5587396123545605], [3.0, 0.7956093000000001], [3.0, 0.0], [3.0, -0.7956093000000001], [2.683901074764725, -1.5587396123545605], [2.121320343559643, -2.121320343559643], [1.5587396123545605, -2.683901074764725], [0.7956093000000001, -3.0], [0.0, -3.0], [-0.7956093000000001, -3.0], [-1.5587396123545605, -2.683901074764725], [-2.121320343559643, -2.121320343559643], [-2.683901074764725, -1.5587396123545605], [-3.0, -0.7956093000000001], [-3.0, 0.0], [-3.0, 0.7956093000000001], [-2.683901074764725, 1.5587396123545605], [-2.121320343559643, 2.121320343559643], [-1.5587396123545605, 2.683901074764725], [-0.7956093000000001, 3.0], [0.0, 3.0]], [\"M\", \"C\", \"C\", \"C\", \"C\", \"C\", \"C\", \"C\", \"C\", \"Z\"]]}], \"texts\": [], \"collections\": [], \"images\": [], \"sharex\": [], \"sharey\": []}], \"data\": {\"data01\": [[0.925, 26.695999999999998, 27.21, 26.206, 26.695999999999998, 33475.0], [1.075, 26.695999999999998, 27.21, 26.206, 26.695999999999998, 33475.0], [1.075, 87.39, 88.58, 85.94, 87.315, 88580.0], [0.925, 87.39, 88.58, 85.94, 87.315, 88580.0], [0.925, 26.695999999999998, 27.21, 26.206, 26.695999999999998, 33475.0]], \"data02\": [[1.0, 26.695999999999998, 87.39, 27.21, 88.58, 26.206, 85.94, 26.695999999999998, 87.315, 33475.0, 88580.0], [1.0, 2.65, 165.74, 2.85, 167.5, 2.55, 163.28, 2.7060000000000004, 165.56, 7139.0, 171080.0]], \"data03\": [[0.9625, 2.65, 165.74, 2.85, 167.5, 2.55, 163.28, 2.7060000000000004, 165.56, 7139.0, 171080.0], [1.0375, 2.65, 165.74, 2.85, 167.5, 2.55, 163.28, 2.7060000000000004, 165.56, 7139.0, 171080.0]], \"data04\": [[0.925, 55.015, 56.285, 53.6, 54.975, 51710.0], [1.075, 55.015, 56.285, 53.6, 54.975, 51710.0]], \"data05\": [], \"data06\": [[1.0, 229663.0], [1.0, 312669.0], [1.0, 305384.0], [1.0, 272763.0], [1.0, 258085.0], [1.0, 217367.0], [1.0, 192604.0], [1.0, 342619.0], [1.0, 193475.0], [1.0, 280896.0], [1.0, 220397.0], [1.0, 304344.0], [1.0, 205804.0], [1.0, 522486.0], [1.0, 184842.0], [1.0, 218614.0], [1.0, 238550.0], [1.0, 219923.0], [1.0, 854786.0], [1.0, 175213.0], [1.0, 193439.0], [1.0, 215070.0], [1.0, 208672.0], [1.0, 181479.0], [1.0, 314742.0], [1.0, 180106.0], [1.0, 174861.0], [1.0, 316589.0], [1.0, 244940.0], [1.0, 185757.0], [1.0, 201790.0], [1.0, 197572.0], [1.0, 816160.0], [1.0, 249004.0], [1.0, 216297.0], [1.0, 191345.0], [1.0, 249279.0], [1.0, 194379.0], [1.0, 173525.0], [1.0, 187285.0], [1.0, 568976.0], [1.0, 200758.0], [1.0, 289367.0], [1.0, 175089.0], [1.0, 180979.0], [1.0, 218559.0], [1.0, 234911.0], [1.0, 305333.0], [1.0, 308882.0], [1.0, 185373.0], [1.0, 173871.0], [1.0, 178671.0], [1.0, 197772.0], [1.0, 191226.0], [1.0, 219410.0], [1.0, 224048.0], [1.0, 210840.0], [1.0, 175188.0], [1.0, 221821.0], [1.0, 191620.0], [1.0, 285477.0], [1.0, 248205.0], [1.0, 294764.0], [1.0, 189191.0], [1.0, 231615.0], [1.0, 220877.0], [1.0, 334417.0], [1.0, 299879.0], [1.0, 174450.0], [1.0, 253038.0], [1.0, 212826.0], [1.0, 281324.0], [1.0, 263045.0], [1.0, 372250.0], [1.0, 273287.0], [1.0, 251764.0], [1.0, 274895.0], [1.0, 266155.0], [1.0, 275608.0], [1.0, 246922.0], [1.0, 245328.0], [1.0, 359505.0], [1.0, 176741.0], [1.0, 178672.0], [1.0, 212338.0], [1.0, 215835.0], [1.0, 212128.0], [1.0, 204757.0], [1.0, 245550.0], [1.0, 189641.0], [1.0, 318571.0], [1.0, 268714.0], [1.0, 435328.0], [1.0, 232079.0], [1.0, 191736.0], [1.0, 204143.0], [1.0, 202358.0], [1.0, 287748.0], [1.0, 373661.0], [1.0, 216513.0], [1.0, 211911.0], [1.0, 221317.0], [1.0, 412456.0], [1.0, 213033.0], [1.0, 189606.0], [1.0, 184587.0], [1.0, 206017.0], [1.0, 620117.0], [1.0, 562190.0], [1.0, 370096.0], [1.0, 371868.0], [1.0, 302004.0], [1.0, 186537.0], [1.0, 173820.0], [1.0, 171331.0], [1.0, 177060.0], [1.0, 771934.0], [1.0, 195920.0], [1.0, 306340.0], [1.0, 256300.0], [1.0, 200460.0], [1.0, 219300.0], [1.0, 192140.0], [1.0, 231753.0], [1.0, 177501.0], [1.0, 382299.0], [1.0, 375832.0], [1.0, 234433.0], [1.0, 195247.0], [1.0, 324238.0], [1.0, 304747.0], [1.0, 183611.0], [1.0, 182401.0], [1.0, 533132.0], [1.0, 282562.0], [1.0, 989736.0], [1.0, 186691.0], [1.0, 202517.0], [1.0, 407313.0], [1.0, 249244.0], [1.0, 183090.0], [1.0, 286737.0], [1.0, 420484.0], [1.0, 423123.0], [1.0, 287309.0], [1.0, 483784.0], [1.0, 1566145.0], [1.0, 872522.0], [1.0, 253638.0], [1.0, 238172.0], [1.0, 345594.0], [1.0, 200282.0], [1.0, 182934.0], [1.0, 210615.0], [1.0, 179341.0], [1.0, 246579.0], [1.0, 331302.0], [1.0, 239752.0], [1.0, 246408.0], [1.0, 663772.0], [1.0, 746482.0], [1.0, 456146.0], [1.0, 394395.0], [1.0, 350208.0], [1.0, 245641.0], [1.0, 181896.0], [1.0, 279519.0], [1.0, 326028.0], [1.0, 182067.0], [1.0, 1761585.0], [1.0, 561428.0], [1.0, 402405.0], [1.0, 180185.0], [1.0, 503508.0], [1.0, 273962.0], [1.0, 463573.0], [1.0, 209566.0], [1.0, 319471.0], [1.0, 464392.0], [1.0, 479519.0], [1.0, 598483.0], [1.0, 503151.0], [1.0, 274378.0], [1.0, 234781.0], [1.0, 247563.0], [1.0, 597174.0], [1.0, 824182.0], [1.0, 601029.0], [1.0, 624374.0], [1.0, 363476.0], [1.0, 540426.0], [1.0, 420480.0], [1.0, 543869.0], [1.0, 303582.0], [1.0, 392072.0], [1.0, 1045873.0], [1.0, 768281.0], [1.0, 294616.0], [1.0, 254411.0], [1.0, 369436.0], [1.0, 389813.0], [1.0, 537018.0], [1.0, 1592794.0], [1.0, 2127937.0], [1.0, 775589.0], [1.0, 424958.0], [1.0, 542584.0], [1.0, 379018.0], [1.0, 236349.0], [1.0, 1540971.0], [1.0, 978687.0], [1.0, 1271092.0], [1.0, 502674.0], [1.0, 593258.0], [1.0, 290587.0], [1.0, 397477.0], [1.0, 398935.0], [1.0, 500152.0], [1.0, 643158.0], [1.0, 783484.0], [1.0, 894673.0], [1.0, 475925.0], [1.0, 587875.0], [1.0, 292734.0], [1.0, 278726.0], [1.0, 314144.0], [1.0, 381049.0], [1.0, 390733.0], [1.0, 372341.0], [1.0, 308368.0], [1.0, 443455.0], [1.0, 360653.0], [1.0, 336090.0], [1.0, 362576.0], [1.0, 962686.0], [1.0, 424293.0], [1.0, 316057.0], [1.0, 411026.0], [1.0, 649203.0], [1.0, 561052.0], [1.0, 570653.0], [1.0, 221614.0], [1.0, 336548.0], [1.0, 361051.0], [1.0, 547920.0], [1.0, 751020.0], [1.0, 424053.0], [1.0, 303983.0], [1.0, 446689.0], [1.0, 266385.0], [1.0, 215086.0], [1.0, 299084.0], [1.0, 181173.0], [1.0, 343336.0], [1.0, 372356.0], [1.0, 257785.0], [1.0, 259387.0], [1.0, 277072.0], [1.0, 312691.0], [1.0, 426371.0], [1.0, 257403.0], [1.0, 370125.0], [1.0, 187959.0], [1.0, 331315.0], [1.0, 198918.0], [1.0, 294719.0], [1.0, 315198.0], [1.0, 200916.0], [1.0, 221211.0], [1.0, 289687.0], [1.0, 177705.0], [1.0, 289237.0], [1.0, 254104.0], [1.0, 228444.0], [1.0, 273240.0], [1.0, 360036.0], [1.0, 220315.0], [1.0, 247815.0], [1.0, 200669.0], [1.0, 233257.0], [1.0, 324925.0], [1.0, 386029.0], [1.0, 651095.0], [1.0, 331713.0], [1.0, 244081.0], [1.0, 383358.0], [1.0, 233363.0], [1.0, 662087.0], [1.0, 346871.0], [1.0, 320184.0], [1.0, 231197.0], [1.0, 314836.0], [1.0, 195351.0], [1.0, 291189.0], [1.0, 185714.0], [1.0, 189161.0], [1.0, 407708.0], [1.0, 216971.0], [1.0, 181150.0], [1.0, 226283.0], [1.0, 357499.0], [1.0, 255838.0], [1.0, 278627.0], [1.0, 214761.0], [1.0, 240697.0], [1.0, 535831.0], [1.0, 231603.0], [1.0, 444325.0], [1.0, 226341.0], [1.0, 251462.0], [1.0, 223225.0], [1.0, 196565.0], [1.0, 256757.0], [1.0, 257417.0], [1.0, 378981.0], [1.0, 565788.0], [1.0, 206210.0], [1.0, 285029.0]]}, \"id\": \"el611657959567488\", \"plugins\": [{\"type\": \"reset\"}, {\"type\": \"zoom\", \"button\": true, \"enabled\": false}, {\"type\": \"boxzoom\", \"button\": true, \"enabled\": false}]});\n",
       "            })\n",
       "         });\n",
       "}\n",
       "</script>"
      ],
      "text/plain": [
       "<matplotlib.figure.Figure at 0xd7ea8d080>"
      ]
     },
     "metadata": {},
     "output_type": "display_data"
    }
   ],
   "source": [
    "# visualzation of data using box plot\n",
    "df.plot(kind='box',subplots=True,layout=(1,5),sharex=False,sharey=False)\n",
    "plt.show()"
   ]
  },
  {
   "cell_type": "code",
   "execution_count": 7,
   "metadata": {},
   "outputs": [
    {
     "data": {
      "text/plain": [
       "Open      float64\n",
       "High      float64\n",
       "Low       float64\n",
       "Close     float64\n",
       "Volume      int64\n",
       "dtype: object"
      ]
     },
     "execution_count": 7,
     "metadata": {},
     "output_type": "execute_result"
    }
   ],
   "source": [
    "#data types analysed\n",
    "df.dtypes"
   ]
  },
  {
   "cell_type": "code",
   "execution_count": 8,
   "metadata": {
    "collapsed": true,
    "scrolled": true
   },
   "outputs": [],
   "source": [
    "#float(dtype) to 2 decimal values to avoid error due to inconsistency in decimal values\n",
    "\n",
    "df.Open = df.Open.round(2) \n",
    "df.High = df.High.round(2)\n",
    "df.Low = df.Low.round(2)\n",
    "df.Close = df.Close.round(2)"
   ]
  },
  {
   "cell_type": "code",
   "execution_count": 9,
   "metadata": {
    "collapsed": true
   },
   "outputs": [],
   "source": [
    "#Calculated the percentage change between the attributes\n",
    "\n",
    "df['OC_change'] = (df['Open'] - df['Close'])/ df['Close']*100\n",
    "df['HL_change'] = (df['High'] - df['Low'])/ df['Low']*100"
   ]
  },
  {
   "cell_type": "code",
   "execution_count": 10,
   "metadata": {},
   "outputs": [
    {
     "data": {
      "text/html": [
       "<div>\n",
       "<style>\n",
       "    .dataframe thead tr:only-child th {\n",
       "        text-align: right;\n",
       "    }\n",
       "\n",
       "    .dataframe thead th {\n",
       "        text-align: left;\n",
       "    }\n",
       "\n",
       "    .dataframe tbody tr th {\n",
       "        vertical-align: top;\n",
       "    }\n",
       "</style>\n",
       "<table border=\"1\" class=\"dataframe\">\n",
       "  <thead>\n",
       "    <tr style=\"text-align: right;\">\n",
       "      <th></th>\n",
       "      <th>Open</th>\n",
       "      <th>High</th>\n",
       "      <th>Low</th>\n",
       "      <th>Close</th>\n",
       "      <th>Volume</th>\n",
       "      <th>OC_change</th>\n",
       "      <th>HL_change</th>\n",
       "    </tr>\n",
       "    <tr>\n",
       "      <th>Date</th>\n",
       "      <th></th>\n",
       "      <th></th>\n",
       "      <th></th>\n",
       "      <th></th>\n",
       "      <th></th>\n",
       "      <th></th>\n",
       "      <th></th>\n",
       "    </tr>\n",
       "  </thead>\n",
       "  <tbody>\n",
       "    <tr>\n",
       "      <th>2017-11-06</th>\n",
       "      <td>7.91</td>\n",
       "      <td>8.32</td>\n",
       "      <td>7.91</td>\n",
       "      <td>8.25</td>\n",
       "      <td>565788</td>\n",
       "      <td>-4.121212</td>\n",
       "      <td>5.183312</td>\n",
       "    </tr>\n",
       "    <tr>\n",
       "      <th>2017-11-07</th>\n",
       "      <td>8.22</td>\n",
       "      <td>8.22</td>\n",
       "      <td>8.07</td>\n",
       "      <td>8.17</td>\n",
       "      <td>206210</td>\n",
       "      <td>0.611995</td>\n",
       "      <td>1.858736</td>\n",
       "    </tr>\n",
       "    <tr>\n",
       "      <th>2017-11-08</th>\n",
       "      <td>8.18</td>\n",
       "      <td>8.20</td>\n",
       "      <td>8.02</td>\n",
       "      <td>8.07</td>\n",
       "      <td>285029</td>\n",
       "      <td>1.363073</td>\n",
       "      <td>2.244389</td>\n",
       "    </tr>\n",
       "    <tr>\n",
       "      <th>2017-11-09</th>\n",
       "      <td>7.86</td>\n",
       "      <td>8.00</td>\n",
       "      <td>7.85</td>\n",
       "      <td>7.88</td>\n",
       "      <td>125624</td>\n",
       "      <td>-0.253807</td>\n",
       "      <td>1.910828</td>\n",
       "    </tr>\n",
       "    <tr>\n",
       "      <th>2017-11-10</th>\n",
       "      <td>7.93</td>\n",
       "      <td>8.02</td>\n",
       "      <td>7.87</td>\n",
       "      <td>7.88</td>\n",
       "      <td>138800</td>\n",
       "      <td>0.634518</td>\n",
       "      <td>1.905972</td>\n",
       "    </tr>\n",
       "  </tbody>\n",
       "</table>\n",
       "</div>"
      ],
      "text/plain": [
       "            Open  High   Low  Close  Volume  OC_change  HL_change\n",
       "Date                                                             \n",
       "2017-11-06  7.91  8.32  7.91   8.25  565788  -4.121212   5.183312\n",
       "2017-11-07  8.22  8.22  8.07   8.17  206210   0.611995   1.858736\n",
       "2017-11-08  8.18  8.20  8.02   8.07  285029   1.363073   2.244389\n",
       "2017-11-09  7.86  8.00  7.85   7.88  125624  -0.253807   1.910828\n",
       "2017-11-10  7.93  8.02  7.87   7.88  138800   0.634518   1.905972"
      ]
     },
     "execution_count": 10,
     "metadata": {},
     "output_type": "execute_result"
    }
   ],
   "source": [
    "df.tail()"
   ]
  },
  {
   "cell_type": "code",
   "execution_count": 11,
   "metadata": {},
   "outputs": [
    {
     "data": {
      "text/html": [
       "<div>\n",
       "<style>\n",
       "    .dataframe thead tr:only-child th {\n",
       "        text-align: right;\n",
       "    }\n",
       "\n",
       "    .dataframe thead th {\n",
       "        text-align: left;\n",
       "    }\n",
       "\n",
       "    .dataframe tbody tr th {\n",
       "        vertical-align: top;\n",
       "    }\n",
       "</style>\n",
       "<table border=\"1\" class=\"dataframe\">\n",
       "  <thead>\n",
       "    <tr style=\"text-align: right;\">\n",
       "      <th></th>\n",
       "      <th>Open</th>\n",
       "      <th>High</th>\n",
       "      <th>Low</th>\n",
       "      <th>Close</th>\n",
       "      <th>Volume</th>\n",
       "      <th>OC_change</th>\n",
       "      <th>HL_change</th>\n",
       "    </tr>\n",
       "    <tr>\n",
       "      <th>Date</th>\n",
       "      <th></th>\n",
       "      <th></th>\n",
       "      <th></th>\n",
       "      <th></th>\n",
       "      <th></th>\n",
       "      <th></th>\n",
       "      <th></th>\n",
       "    </tr>\n",
       "  </thead>\n",
       "  <tbody>\n",
       "    <tr>\n",
       "      <th>2005-02-25</th>\n",
       "      <td>141.94</td>\n",
       "      <td>143.84</td>\n",
       "      <td>141.20</td>\n",
       "      <td>143.18</td>\n",
       "      <td>89902</td>\n",
       "      <td>-0.866043</td>\n",
       "      <td>1.869688</td>\n",
       "    </tr>\n",
       "    <tr>\n",
       "      <th>2005-02-28</th>\n",
       "      <td>143.70</td>\n",
       "      <td>147.19</td>\n",
       "      <td>139.47</td>\n",
       "      <td>143.14</td>\n",
       "      <td>124965</td>\n",
       "      <td>0.391225</td>\n",
       "      <td>5.535241</td>\n",
       "    </tr>\n",
       "    <tr>\n",
       "      <th>2005-03-01</th>\n",
       "      <td>141.79</td>\n",
       "      <td>142.57</td>\n",
       "      <td>131.36</td>\n",
       "      <td>134.50</td>\n",
       "      <td>229663</td>\n",
       "      <td>5.420074</td>\n",
       "      <td>8.533800</td>\n",
       "    </tr>\n",
       "    <tr>\n",
       "      <th>2005-03-02</th>\n",
       "      <td>135.27</td>\n",
       "      <td>139.11</td>\n",
       "      <td>135.06</td>\n",
       "      <td>137.56</td>\n",
       "      <td>88113</td>\n",
       "      <td>-1.664728</td>\n",
       "      <td>2.998667</td>\n",
       "    </tr>\n",
       "    <tr>\n",
       "      <th>2005-03-03</th>\n",
       "      <td>138.59</td>\n",
       "      <td>138.59</td>\n",
       "      <td>132.24</td>\n",
       "      <td>134.89</td>\n",
       "      <td>120294</td>\n",
       "      <td>2.742976</td>\n",
       "      <td>4.801875</td>\n",
       "    </tr>\n",
       "  </tbody>\n",
       "</table>\n",
       "</div>"
      ],
      "text/plain": [
       "              Open    High     Low   Close  Volume  OC_change  HL_change\n",
       "Date                                                                    \n",
       "2005-02-25  141.94  143.84  141.20  143.18   89902  -0.866043   1.869688\n",
       "2005-02-28  143.70  147.19  139.47  143.14  124965   0.391225   5.535241\n",
       "2005-03-01  141.79  142.57  131.36  134.50  229663   5.420074   8.533800\n",
       "2005-03-02  135.27  139.11  135.06  137.56   88113  -1.664728   2.998667\n",
       "2005-03-03  138.59  138.59  132.24  134.89  120294   2.742976   4.801875"
      ]
     },
     "execution_count": 11,
     "metadata": {},
     "output_type": "execute_result"
    }
   ],
   "source": [
    "df.head()"
   ]
  },
  {
   "cell_type": "code",
   "execution_count": 12,
   "metadata": {
    "collapsed": true
   },
   "outputs": [],
   "source": [
    "#populating the dataframe by the required fields\n",
    "\n",
    "df = df[['OC_change','HL_change','Close','Volume']]"
   ]
  },
  {
   "cell_type": "code",
   "execution_count": 13,
   "metadata": {},
   "outputs": [
    {
     "data": {
      "text/plain": [
       "3201"
      ]
     },
     "execution_count": 13,
     "metadata": {},
     "output_type": "execute_result"
    }
   ],
   "source": [
    "len(df)"
   ]
  },
  {
   "cell_type": "code",
   "execution_count": 14,
   "metadata": {
    "scrolled": true
   },
   "outputs": [
    {
     "data": {
      "text/plain": [
       "Date\n",
       "2017-11-06   NaN\n",
       "2017-11-07   NaN\n",
       "2017-11-08   NaN\n",
       "2017-11-09   NaN\n",
       "2017-11-10   NaN\n",
       "Name: label, dtype: float64"
      ]
     },
     "execution_count": 14,
     "metadata": {},
     "output_type": "execute_result"
    }
   ],
   "source": [
    "#defining the features and lables\n",
    "#shift the close feautre\n",
    "forecast_col = 'Close'\n",
    "forecast_out =  int(math.ceil(0.01*len (df)))\n",
    "df['label'] = df[forecast_col].shift(-forecast_out)\n",
    "df['label'].tail()\n"
   ]
  },
  {
   "cell_type": "code",
   "execution_count": 15,
   "metadata": {
    "collapsed": true
   },
   "outputs": [],
   "source": [
    "#null values handled\n",
    "df.dropna(inplace = True)"
   ]
  },
  {
   "cell_type": "code",
   "execution_count": 16,
   "metadata": {},
   "outputs": [
    {
     "data": {
      "text/html": [
       "<div>\n",
       "<style>\n",
       "    .dataframe thead tr:only-child th {\n",
       "        text-align: right;\n",
       "    }\n",
       "\n",
       "    .dataframe thead th {\n",
       "        text-align: left;\n",
       "    }\n",
       "\n",
       "    .dataframe tbody tr th {\n",
       "        vertical-align: top;\n",
       "    }\n",
       "</style>\n",
       "<table border=\"1\" class=\"dataframe\">\n",
       "  <thead>\n",
       "    <tr style=\"text-align: right;\">\n",
       "      <th></th>\n",
       "      <th>OC_change</th>\n",
       "      <th>HL_change</th>\n",
       "      <th>Close</th>\n",
       "      <th>Volume</th>\n",
       "      <th>label</th>\n",
       "    </tr>\n",
       "    <tr>\n",
       "      <th>Date</th>\n",
       "      <th></th>\n",
       "      <th></th>\n",
       "      <th></th>\n",
       "      <th></th>\n",
       "      <th></th>\n",
       "    </tr>\n",
       "  </thead>\n",
       "  <tbody>\n",
       "    <tr>\n",
       "      <th>2017-09-20</th>\n",
       "      <td>0.110375</td>\n",
       "      <td>2.449889</td>\n",
       "      <td>9.06</td>\n",
       "      <td>171080</td>\n",
       "      <td>8.25</td>\n",
       "    </tr>\n",
       "    <tr>\n",
       "      <th>2017-09-21</th>\n",
       "      <td>3.099885</td>\n",
       "      <td>3.218391</td>\n",
       "      <td>8.71</td>\n",
       "      <td>226283</td>\n",
       "      <td>8.17</td>\n",
       "    </tr>\n",
       "    <tr>\n",
       "      <th>2017-09-22</th>\n",
       "      <td>2.985075</td>\n",
       "      <td>3.690888</td>\n",
       "      <td>8.71</td>\n",
       "      <td>144074</td>\n",
       "      <td>8.07</td>\n",
       "    </tr>\n",
       "    <tr>\n",
       "      <th>2017-09-25</th>\n",
       "      <td>4.059041</td>\n",
       "      <td>5.334988</td>\n",
       "      <td>8.13</td>\n",
       "      <td>357499</td>\n",
       "      <td>7.88</td>\n",
       "    </tr>\n",
       "    <tr>\n",
       "      <th>2017-09-26</th>\n",
       "      <td>0.125628</td>\n",
       "      <td>2.298851</td>\n",
       "      <td>7.96</td>\n",
       "      <td>255838</td>\n",
       "      <td>7.88</td>\n",
       "    </tr>\n",
       "  </tbody>\n",
       "</table>\n",
       "</div>"
      ],
      "text/plain": [
       "            OC_change  HL_change  Close  Volume  label\n",
       "Date                                                  \n",
       "2017-09-20   0.110375   2.449889   9.06  171080   8.25\n",
       "2017-09-21   3.099885   3.218391   8.71  226283   8.17\n",
       "2017-09-22   2.985075   3.690888   8.71  144074   8.07\n",
       "2017-09-25   4.059041   5.334988   8.13  357499   7.88\n",
       "2017-09-26   0.125628   2.298851   7.96  255838   7.88"
      ]
     },
     "execution_count": 16,
     "metadata": {},
     "output_type": "execute_result"
    }
   ],
   "source": [
    "df.tail()"
   ]
  },
  {
   "cell_type": "code",
   "execution_count": 17,
   "metadata": {
    "collapsed": true
   },
   "outputs": [],
   "source": [
    "#Features to apply linear Regression\n",
    "\n",
    "X = np.array(df.drop(['label'],1))\n",
    "Y = np.array(df['label'])\n"
   ]
  },
  {
   "cell_type": "code",
   "execution_count": 18,
   "metadata": {
    "scrolled": true
   },
   "outputs": [
    {
     "data": {
      "text/plain": [
       "3168"
      ]
     },
     "execution_count": 18,
     "metadata": {},
     "output_type": "execute_result"
    }
   ],
   "source": [
    "len(X)"
   ]
  },
  {
   "cell_type": "code",
   "execution_count": 19,
   "metadata": {
    "collapsed": true
   },
   "outputs": [],
   "source": [
    "#dividing the features and labels into test and train set\n",
    "\n",
    "x_train, x_test, y_train, y_test = train_test_split(X,Y,test_size = 0.2)"
   ]
  },
  {
   "cell_type": "code",
   "execution_count": 20,
   "metadata": {
    "collapsed": true
   },
   "outputs": [],
   "source": [
    "#linear regression\n",
    "\n",
    "clf = LinearRegression()"
   ]
  },
  {
   "cell_type": "code",
   "execution_count": 21,
   "metadata": {
    "scrolled": true
   },
   "outputs": [
    {
     "data": {
      "text/plain": [
       "LinearRegression(copy_X=True, fit_intercept=True, n_jobs=1, normalize=False)"
      ]
     },
     "execution_count": 21,
     "metadata": {},
     "output_type": "execute_result"
    }
   ],
   "source": [
    "clf.fit(x_train, y_train)\n"
   ]
  },
  {
   "cell_type": "code",
   "execution_count": 22,
   "metadata": {},
   "outputs": [
    {
     "data": {
      "text/plain": [
       "0.93946023243007326"
      ]
     },
     "execution_count": 22,
     "metadata": {},
     "output_type": "execute_result"
    }
   ],
   "source": [
    "#Accuracy of the algorithm\n",
    "accuracy=clf.score(x_test, y_test)\n",
    "accuracy"
   ]
  },
  {
   "cell_type": "code",
   "execution_count": 23,
   "metadata": {},
   "outputs": [
    {
     "ename": "NameError",
     "evalue": "name 'X_lately' is not defined",
     "output_type": "error",
     "traceback": [
      "\u001b[1;31m---------------------------------------------------------------------------\u001b[0m",
      "\u001b[1;31mNameError\u001b[0m                                 Traceback (most recent call last)",
      "\u001b[1;32m<ipython-input-23-77fbb036ba28>\u001b[0m in \u001b[0;36m<module>\u001b[1;34m()\u001b[0m\n\u001b[0;32m      1\u001b[0m \u001b[1;31m#Predicting the stocks for the forecasted set\u001b[0m\u001b[1;33m\u001b[0m\u001b[1;33m\u001b[0m\u001b[0m\n\u001b[0;32m      2\u001b[0m \u001b[1;33m\u001b[0m\u001b[0m\n\u001b[1;32m----> 3\u001b[1;33m \u001b[0mForecast_set\u001b[0m \u001b[1;33m=\u001b[0m \u001b[0mclf\u001b[0m\u001b[1;33m.\u001b[0m\u001b[0mpredict\u001b[0m\u001b[1;33m(\u001b[0m\u001b[0mX_lately\u001b[0m\u001b[1;33m)\u001b[0m\u001b[1;33m\u001b[0m\u001b[0m\n\u001b[0m\u001b[0;32m      4\u001b[0m \u001b[0mX\u001b[0m \u001b[1;33m=\u001b[0m \u001b[0mX\u001b[0m\u001b[1;33m[\u001b[0m\u001b[1;33m:\u001b[0m\u001b[1;33m-\u001b[0m\u001b[0mforecast_out\u001b[0m\u001b[1;33m]\u001b[0m\u001b[1;33m\u001b[0m\u001b[0m\n\u001b[0;32m      5\u001b[0m \u001b[0mY\u001b[0m \u001b[1;33m=\u001b[0m \u001b[0mY\u001b[0m\u001b[1;33m[\u001b[0m\u001b[1;33m:\u001b[0m\u001b[1;33m-\u001b[0m\u001b[0mforecast_out\u001b[0m\u001b[1;33m]\u001b[0m\u001b[1;33m\u001b[0m\u001b[0m\n",
      "\u001b[1;31mNameError\u001b[0m: name 'X_lately' is not defined"
     ]
    }
   ],
   "source": [
    "#Predicting the stocks for the forecasted set\n",
    "\n",
    "Forecast_set = clf.predict(X_lately)\n",
    "X = X[:-forecast_out]\n",
    "Y = Y[:-forecast_out]\n",
    "X_lately = X[-forecast_out:]\n",
    "Y_lately = Y[-forecast_out:]\n",
    "\n"
   ]
  },
  {
   "cell_type": "code",
   "execution_count": null,
   "metadata": {
    "scrolled": true
   },
   "outputs": [],
   "source": [
    "#Predicted stock prices\n",
    "Forecast_set"
   ]
  },
  {
   "cell_type": "code",
   "execution_count": null,
   "metadata": {
    "scrolled": true
   },
   "outputs": [],
   "source": [
    "style.use('ggplot')\n",
    "\n",
    "df['Forecast'] = np.nan\n",
    "\n",
    "last_date = df.iloc[-1].name\n",
    "last_unix  = last_date.timestamp()\n",
    "one_day = 86400\n",
    "next_unix = last_unix+one_day\n",
    "\n",
    "for i in Forecast_set:\n",
    "    next_date = datetime.datetime.fromtimestamp(next_unix)\n",
    "    next_unix += one_day\n",
    "    df.loc[next_date] = [np.nan for _ in range(len(df.columns)-1)]+[i]\n",
    "\n",
    "df['Close'].plot()    \n",
    "df['Forecast'].plot()\n",
    "plt.legend(loc=4)\n",
    "plt.xlabel('Date')\n",
    "plt.ylabel('Price')\n",
    "plt.show()\n"
   ]
  },
  {
   "cell_type": "code",
   "execution_count": 24,
   "metadata": {},
   "outputs": [
    {
     "ename": "KeyError",
     "evalue": "'Forecast'",
     "output_type": "error",
     "traceback": [
      "\u001b[1;31m---------------------------------------------------------------------------\u001b[0m",
      "\u001b[1;31mKeyError\u001b[0m                                  Traceback (most recent call last)",
      "\u001b[1;32m~\\Miniconda3\\lib\\site-packages\\pandas\\core\\indexes\\base.py\u001b[0m in \u001b[0;36mget_loc\u001b[1;34m(self, key, method, tolerance)\u001b[0m\n\u001b[0;32m   2441\u001b[0m             \u001b[1;32mtry\u001b[0m\u001b[1;33m:\u001b[0m\u001b[1;33m\u001b[0m\u001b[0m\n\u001b[1;32m-> 2442\u001b[1;33m                 \u001b[1;32mreturn\u001b[0m \u001b[0mself\u001b[0m\u001b[1;33m.\u001b[0m\u001b[0m_engine\u001b[0m\u001b[1;33m.\u001b[0m\u001b[0mget_loc\u001b[0m\u001b[1;33m(\u001b[0m\u001b[0mkey\u001b[0m\u001b[1;33m)\u001b[0m\u001b[1;33m\u001b[0m\u001b[0m\n\u001b[0m\u001b[0;32m   2443\u001b[0m             \u001b[1;32mexcept\u001b[0m \u001b[0mKeyError\u001b[0m\u001b[1;33m:\u001b[0m\u001b[1;33m\u001b[0m\u001b[0m\n",
      "\u001b[1;32mpandas\\_libs\\index.pyx\u001b[0m in \u001b[0;36mpandas._libs.index.IndexEngine.get_loc\u001b[1;34m()\u001b[0m\n",
      "\u001b[1;32mpandas\\_libs\\index.pyx\u001b[0m in \u001b[0;36mpandas._libs.index.IndexEngine.get_loc\u001b[1;34m()\u001b[0m\n",
      "\u001b[1;32mpandas\\_libs\\hashtable_class_helper.pxi\u001b[0m in \u001b[0;36mpandas._libs.hashtable.PyObjectHashTable.get_item\u001b[1;34m()\u001b[0m\n",
      "\u001b[1;32mpandas\\_libs\\hashtable_class_helper.pxi\u001b[0m in \u001b[0;36mpandas._libs.hashtable.PyObjectHashTable.get_item\u001b[1;34m()\u001b[0m\n",
      "\u001b[1;31mKeyError\u001b[0m: 'Forecast'",
      "\nDuring handling of the above exception, another exception occurred:\n",
      "\u001b[1;31mKeyError\u001b[0m                                  Traceback (most recent call last)",
      "\u001b[1;32m<ipython-input-24-301c77fff553>\u001b[0m in \u001b[0;36m<module>\u001b[1;34m()\u001b[0m\n\u001b[1;32m----> 1\u001b[1;33m \u001b[0mdf\u001b[0m\u001b[1;33m[\u001b[0m\u001b[1;34m'Forecast'\u001b[0m\u001b[1;33m]\u001b[0m\u001b[1;33m.\u001b[0m\u001b[0mtail\u001b[0m\u001b[1;33m(\u001b[0m\u001b[1;33m)\u001b[0m\u001b[1;33m\u001b[0m\u001b[0m\n\u001b[0m",
      "\u001b[1;32m~\\Miniconda3\\lib\\site-packages\\pandas\\core\\frame.py\u001b[0m in \u001b[0;36m__getitem__\u001b[1;34m(self, key)\u001b[0m\n\u001b[0;32m   1962\u001b[0m             \u001b[1;32mreturn\u001b[0m \u001b[0mself\u001b[0m\u001b[1;33m.\u001b[0m\u001b[0m_getitem_multilevel\u001b[0m\u001b[1;33m(\u001b[0m\u001b[0mkey\u001b[0m\u001b[1;33m)\u001b[0m\u001b[1;33m\u001b[0m\u001b[0m\n\u001b[0;32m   1963\u001b[0m         \u001b[1;32melse\u001b[0m\u001b[1;33m:\u001b[0m\u001b[1;33m\u001b[0m\u001b[0m\n\u001b[1;32m-> 1964\u001b[1;33m             \u001b[1;32mreturn\u001b[0m \u001b[0mself\u001b[0m\u001b[1;33m.\u001b[0m\u001b[0m_getitem_column\u001b[0m\u001b[1;33m(\u001b[0m\u001b[0mkey\u001b[0m\u001b[1;33m)\u001b[0m\u001b[1;33m\u001b[0m\u001b[0m\n\u001b[0m\u001b[0;32m   1965\u001b[0m \u001b[1;33m\u001b[0m\u001b[0m\n\u001b[0;32m   1966\u001b[0m     \u001b[1;32mdef\u001b[0m \u001b[0m_getitem_column\u001b[0m\u001b[1;33m(\u001b[0m\u001b[0mself\u001b[0m\u001b[1;33m,\u001b[0m \u001b[0mkey\u001b[0m\u001b[1;33m)\u001b[0m\u001b[1;33m:\u001b[0m\u001b[1;33m\u001b[0m\u001b[0m\n",
      "\u001b[1;32m~\\Miniconda3\\lib\\site-packages\\pandas\\core\\frame.py\u001b[0m in \u001b[0;36m_getitem_column\u001b[1;34m(self, key)\u001b[0m\n\u001b[0;32m   1969\u001b[0m         \u001b[1;31m# get column\u001b[0m\u001b[1;33m\u001b[0m\u001b[1;33m\u001b[0m\u001b[0m\n\u001b[0;32m   1970\u001b[0m         \u001b[1;32mif\u001b[0m \u001b[0mself\u001b[0m\u001b[1;33m.\u001b[0m\u001b[0mcolumns\u001b[0m\u001b[1;33m.\u001b[0m\u001b[0mis_unique\u001b[0m\u001b[1;33m:\u001b[0m\u001b[1;33m\u001b[0m\u001b[0m\n\u001b[1;32m-> 1971\u001b[1;33m             \u001b[1;32mreturn\u001b[0m \u001b[0mself\u001b[0m\u001b[1;33m.\u001b[0m\u001b[0m_get_item_cache\u001b[0m\u001b[1;33m(\u001b[0m\u001b[0mkey\u001b[0m\u001b[1;33m)\u001b[0m\u001b[1;33m\u001b[0m\u001b[0m\n\u001b[0m\u001b[0;32m   1972\u001b[0m \u001b[1;33m\u001b[0m\u001b[0m\n\u001b[0;32m   1973\u001b[0m         \u001b[1;31m# duplicate columns & possible reduce dimensionality\u001b[0m\u001b[1;33m\u001b[0m\u001b[1;33m\u001b[0m\u001b[0m\n",
      "\u001b[1;32m~\\Miniconda3\\lib\\site-packages\\pandas\\core\\generic.py\u001b[0m in \u001b[0;36m_get_item_cache\u001b[1;34m(self, item)\u001b[0m\n\u001b[0;32m   1643\u001b[0m         \u001b[0mres\u001b[0m \u001b[1;33m=\u001b[0m \u001b[0mcache\u001b[0m\u001b[1;33m.\u001b[0m\u001b[0mget\u001b[0m\u001b[1;33m(\u001b[0m\u001b[0mitem\u001b[0m\u001b[1;33m)\u001b[0m\u001b[1;33m\u001b[0m\u001b[0m\n\u001b[0;32m   1644\u001b[0m         \u001b[1;32mif\u001b[0m \u001b[0mres\u001b[0m \u001b[1;32mis\u001b[0m \u001b[1;32mNone\u001b[0m\u001b[1;33m:\u001b[0m\u001b[1;33m\u001b[0m\u001b[0m\n\u001b[1;32m-> 1645\u001b[1;33m             \u001b[0mvalues\u001b[0m \u001b[1;33m=\u001b[0m \u001b[0mself\u001b[0m\u001b[1;33m.\u001b[0m\u001b[0m_data\u001b[0m\u001b[1;33m.\u001b[0m\u001b[0mget\u001b[0m\u001b[1;33m(\u001b[0m\u001b[0mitem\u001b[0m\u001b[1;33m)\u001b[0m\u001b[1;33m\u001b[0m\u001b[0m\n\u001b[0m\u001b[0;32m   1646\u001b[0m             \u001b[0mres\u001b[0m \u001b[1;33m=\u001b[0m \u001b[0mself\u001b[0m\u001b[1;33m.\u001b[0m\u001b[0m_box_item_values\u001b[0m\u001b[1;33m(\u001b[0m\u001b[0mitem\u001b[0m\u001b[1;33m,\u001b[0m \u001b[0mvalues\u001b[0m\u001b[1;33m)\u001b[0m\u001b[1;33m\u001b[0m\u001b[0m\n\u001b[0;32m   1647\u001b[0m             \u001b[0mcache\u001b[0m\u001b[1;33m[\u001b[0m\u001b[0mitem\u001b[0m\u001b[1;33m]\u001b[0m \u001b[1;33m=\u001b[0m \u001b[0mres\u001b[0m\u001b[1;33m\u001b[0m\u001b[0m\n",
      "\u001b[1;32m~\\Miniconda3\\lib\\site-packages\\pandas\\core\\internals.py\u001b[0m in \u001b[0;36mget\u001b[1;34m(self, item, fastpath)\u001b[0m\n\u001b[0;32m   3588\u001b[0m \u001b[1;33m\u001b[0m\u001b[0m\n\u001b[0;32m   3589\u001b[0m             \u001b[1;32mif\u001b[0m \u001b[1;32mnot\u001b[0m \u001b[0misnull\u001b[0m\u001b[1;33m(\u001b[0m\u001b[0mitem\u001b[0m\u001b[1;33m)\u001b[0m\u001b[1;33m:\u001b[0m\u001b[1;33m\u001b[0m\u001b[0m\n\u001b[1;32m-> 3590\u001b[1;33m                 \u001b[0mloc\u001b[0m \u001b[1;33m=\u001b[0m \u001b[0mself\u001b[0m\u001b[1;33m.\u001b[0m\u001b[0mitems\u001b[0m\u001b[1;33m.\u001b[0m\u001b[0mget_loc\u001b[0m\u001b[1;33m(\u001b[0m\u001b[0mitem\u001b[0m\u001b[1;33m)\u001b[0m\u001b[1;33m\u001b[0m\u001b[0m\n\u001b[0m\u001b[0;32m   3591\u001b[0m             \u001b[1;32melse\u001b[0m\u001b[1;33m:\u001b[0m\u001b[1;33m\u001b[0m\u001b[0m\n\u001b[0;32m   3592\u001b[0m                 \u001b[0mindexer\u001b[0m \u001b[1;33m=\u001b[0m \u001b[0mnp\u001b[0m\u001b[1;33m.\u001b[0m\u001b[0marange\u001b[0m\u001b[1;33m(\u001b[0m\u001b[0mlen\u001b[0m\u001b[1;33m(\u001b[0m\u001b[0mself\u001b[0m\u001b[1;33m.\u001b[0m\u001b[0mitems\u001b[0m\u001b[1;33m)\u001b[0m\u001b[1;33m)\u001b[0m\u001b[1;33m[\u001b[0m\u001b[0misnull\u001b[0m\u001b[1;33m(\u001b[0m\u001b[0mself\u001b[0m\u001b[1;33m.\u001b[0m\u001b[0mitems\u001b[0m\u001b[1;33m)\u001b[0m\u001b[1;33m]\u001b[0m\u001b[1;33m\u001b[0m\u001b[0m\n",
      "\u001b[1;32m~\\Miniconda3\\lib\\site-packages\\pandas\\core\\indexes\\base.py\u001b[0m in \u001b[0;36mget_loc\u001b[1;34m(self, key, method, tolerance)\u001b[0m\n\u001b[0;32m   2442\u001b[0m                 \u001b[1;32mreturn\u001b[0m \u001b[0mself\u001b[0m\u001b[1;33m.\u001b[0m\u001b[0m_engine\u001b[0m\u001b[1;33m.\u001b[0m\u001b[0mget_loc\u001b[0m\u001b[1;33m(\u001b[0m\u001b[0mkey\u001b[0m\u001b[1;33m)\u001b[0m\u001b[1;33m\u001b[0m\u001b[0m\n\u001b[0;32m   2443\u001b[0m             \u001b[1;32mexcept\u001b[0m \u001b[0mKeyError\u001b[0m\u001b[1;33m:\u001b[0m\u001b[1;33m\u001b[0m\u001b[0m\n\u001b[1;32m-> 2444\u001b[1;33m                 \u001b[1;32mreturn\u001b[0m \u001b[0mself\u001b[0m\u001b[1;33m.\u001b[0m\u001b[0m_engine\u001b[0m\u001b[1;33m.\u001b[0m\u001b[0mget_loc\u001b[0m\u001b[1;33m(\u001b[0m\u001b[0mself\u001b[0m\u001b[1;33m.\u001b[0m\u001b[0m_maybe_cast_indexer\u001b[0m\u001b[1;33m(\u001b[0m\u001b[0mkey\u001b[0m\u001b[1;33m)\u001b[0m\u001b[1;33m)\u001b[0m\u001b[1;33m\u001b[0m\u001b[0m\n\u001b[0m\u001b[0;32m   2445\u001b[0m \u001b[1;33m\u001b[0m\u001b[0m\n\u001b[0;32m   2446\u001b[0m         \u001b[0mindexer\u001b[0m \u001b[1;33m=\u001b[0m \u001b[0mself\u001b[0m\u001b[1;33m.\u001b[0m\u001b[0mget_indexer\u001b[0m\u001b[1;33m(\u001b[0m\u001b[1;33m[\u001b[0m\u001b[0mkey\u001b[0m\u001b[1;33m]\u001b[0m\u001b[1;33m,\u001b[0m \u001b[0mmethod\u001b[0m\u001b[1;33m=\u001b[0m\u001b[0mmethod\u001b[0m\u001b[1;33m,\u001b[0m \u001b[0mtolerance\u001b[0m\u001b[1;33m=\u001b[0m\u001b[0mtolerance\u001b[0m\u001b[1;33m)\u001b[0m\u001b[1;33m\u001b[0m\u001b[0m\n",
      "\u001b[1;32mpandas\\_libs\\index.pyx\u001b[0m in \u001b[0;36mpandas._libs.index.IndexEngine.get_loc\u001b[1;34m()\u001b[0m\n",
      "\u001b[1;32mpandas\\_libs\\index.pyx\u001b[0m in \u001b[0;36mpandas._libs.index.IndexEngine.get_loc\u001b[1;34m()\u001b[0m\n",
      "\u001b[1;32mpandas\\_libs\\hashtable_class_helper.pxi\u001b[0m in \u001b[0;36mpandas._libs.hashtable.PyObjectHashTable.get_item\u001b[1;34m()\u001b[0m\n",
      "\u001b[1;32mpandas\\_libs\\hashtable_class_helper.pxi\u001b[0m in \u001b[0;36mpandas._libs.hashtable.PyObjectHashTable.get_item\u001b[1;34m()\u001b[0m\n",
      "\u001b[1;31mKeyError\u001b[0m: 'Forecast'"
     ]
    }
   ],
   "source": [
    "df['Forecast'].tail()"
   ]
  },
  {
   "cell_type": "code",
   "execution_count": null,
   "metadata": {
    "collapsed": true
   },
   "outputs": [],
   "source": []
  },
  {
   "cell_type": "code",
   "execution_count": null,
   "metadata": {
    "collapsed": true
   },
   "outputs": [],
   "source": []
  }
 ],
 "metadata": {
  "kernelspec": {
   "display_name": "Python 3",
   "language": "python",
   "name": "python3"
  },
  "language_info": {
   "codemirror_mode": {
    "name": "ipython",
    "version": 3
   },
   "file_extension": ".py",
   "mimetype": "text/x-python",
   "name": "python",
   "nbconvert_exporter": "python",
   "pygments_lexer": "ipython3",
   "version": "3.6.3"
  }
 },
 "nbformat": 4,
 "nbformat_minor": 2
}
